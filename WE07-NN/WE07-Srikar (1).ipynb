{
 "cells": [
  {
   "cell_type": "markdown",
   "id": "16efa832-d211-4d23-819a-37d82c16f06e",
   "metadata": {},
   "source": [
    "### WE07"
   ]
  },
  {
   "cell_type": "markdown",
   "id": "c1267de6-53b2-4912-91c8-5d9ed5221eda",
   "metadata": {},
   "source": [
    "#### U95310908 Srikar Pusuluri"
   ]
  },
  {
   "cell_type": "code",
   "execution_count": 1,
   "id": "f3f268f7-71fc-4234-8add-5dc4331e09ba",
   "metadata": {},
   "outputs": [],
   "source": [
    "#importing libraries\n",
    "\n",
    "import pandas as pd\n",
    "import numpy as np\n",
    "from sklearn.metrics import confusion_matrix\n",
    "from sklearn.metrics import accuracy_score, precision_score, recall_score, f1_score\n",
    "from sklearn.metrics import classification_report\n",
    "from sklearn.linear_model import LogisticRegression\n",
    "from sklearn.svm import SVC\n",
    "from sklearn.tree import DecisionTreeClassifier\n",
    "from sklearn.model_selection import RandomizedSearchCV, GridSearchCV\n",
    "from sklearn import model_selection\n",
    "from sklearn.model_selection import train_test_split\n",
    "from matplotlib import pyplot as plt\n",
    "%matplotlib inline\n",
    "from sklearn.preprocessing import StandardScaler\n",
    "import imblearn\n",
    "from imblearn.under_sampling import RandomUnderSampler\n",
    "from collections import Counter\n",
    "from imblearn.over_sampling import RandomOverSampler\n",
    "from collections import Counter\n",
    "\n",
    "np.random.seed(1)"
   ]
  },
  {
   "cell_type": "code",
   "execution_count": 2,
   "id": "6e5b57d7-7911-4b14-8b04-45acc687590e",
   "metadata": {},
   "outputs": [],
   "source": [
    "import warnings \n",
    "warnings.filterwarnings(\"ignore\")"
   ]
  },
  {
   "cell_type": "code",
   "execution_count": 3,
   "id": "f83f8307-f90d-4dae-89d0-db822c536c87",
   "metadata": {},
   "outputs": [],
   "source": [
    "X_train = pd.read_csv('phoneme_Xtrain.csv')\n",
    "y_train = pd.read_csv('phoneme_ytrain.csv')\n",
    "X_test = pd.read_csv('phoneme_Xtest.csv')\n",
    "y_test = pd.read_csv('phoneme_ytest.csv')"
   ]
  },
  {
   "cell_type": "code",
   "execution_count": 4,
   "id": "dd3eec70-0156-44f5-bc60-30cb077b9a8d",
   "metadata": {},
   "outputs": [
    {
     "data": {
      "text/html": [
       "<div>\n",
       "<style scoped>\n",
       "    .dataframe tbody tr th:only-of-type {\n",
       "        vertical-align: middle;\n",
       "    }\n",
       "\n",
       "    .dataframe tbody tr th {\n",
       "        vertical-align: top;\n",
       "    }\n",
       "\n",
       "    .dataframe thead th {\n",
       "        text-align: right;\n",
       "    }\n",
       "</style>\n",
       "<table border=\"1\" class=\"dataframe\">\n",
       "  <thead>\n",
       "    <tr style=\"text-align: right;\">\n",
       "      <th></th>\n",
       "      <th>0</th>\n",
       "      <th>1</th>\n",
       "      <th>2</th>\n",
       "      <th>3</th>\n",
       "      <th>4</th>\n",
       "    </tr>\n",
       "  </thead>\n",
       "  <tbody>\n",
       "    <tr>\n",
       "      <th>0</th>\n",
       "      <td>-0.095847</td>\n",
       "      <td>2.016646</td>\n",
       "      <td>0.215286</td>\n",
       "      <td>-0.935430</td>\n",
       "      <td>0.245228</td>\n",
       "    </tr>\n",
       "    <tr>\n",
       "      <th>1</th>\n",
       "      <td>-0.604492</td>\n",
       "      <td>-0.299550</td>\n",
       "      <td>1.793911</td>\n",
       "      <td>-1.370485</td>\n",
       "      <td>0.546791</td>\n",
       "    </tr>\n",
       "    <tr>\n",
       "      <th>2</th>\n",
       "      <td>1.262095</td>\n",
       "      <td>-0.895578</td>\n",
       "      <td>-0.635078</td>\n",
       "      <td>-0.302393</td>\n",
       "      <td>-0.389642</td>\n",
       "    </tr>\n",
       "    <tr>\n",
       "      <th>3</th>\n",
       "      <td>0.474629</td>\n",
       "      <td>0.011931</td>\n",
       "      <td>1.760115</td>\n",
       "      <td>-1.129628</td>\n",
       "      <td>-0.460183</td>\n",
       "    </tr>\n",
       "    <tr>\n",
       "      <th>4</th>\n",
       "      <td>-0.179844</td>\n",
       "      <td>1.996739</td>\n",
       "      <td>-1.317550</td>\n",
       "      <td>-0.169985</td>\n",
       "      <td>-0.343790</td>\n",
       "    </tr>\n",
       "    <tr>\n",
       "      <th>5</th>\n",
       "      <td>0.586624</td>\n",
       "      <td>-0.777309</td>\n",
       "      <td>-0.669965</td>\n",
       "      <td>-0.309959</td>\n",
       "      <td>-0.409040</td>\n",
       "    </tr>\n",
       "    <tr>\n",
       "      <th>6</th>\n",
       "      <td>0.371966</td>\n",
       "      <td>1.049417</td>\n",
       "      <td>-1.257589</td>\n",
       "      <td>-0.163679</td>\n",
       "      <td>-0.454892</td>\n",
       "    </tr>\n",
       "    <tr>\n",
       "      <th>7</th>\n",
       "      <td>0.311302</td>\n",
       "      <td>-0.258565</td>\n",
       "      <td>-0.563124</td>\n",
       "      <td>-0.238080</td>\n",
       "      <td>-0.278539</td>\n",
       "    </tr>\n",
       "    <tr>\n",
       "      <th>8</th>\n",
       "      <td>-0.714154</td>\n",
       "      <td>-0.547797</td>\n",
       "      <td>0.537988</td>\n",
       "      <td>2.220928</td>\n",
       "      <td>-1.252006</td>\n",
       "    </tr>\n",
       "    <tr>\n",
       "      <th>9</th>\n",
       "      <td>-0.214842</td>\n",
       "      <td>2.117350</td>\n",
       "      <td>-1.556306</td>\n",
       "      <td>0.123835</td>\n",
       "      <td>-0.456656</td>\n",
       "    </tr>\n",
       "  </tbody>\n",
       "</table>\n",
       "</div>"
      ],
      "text/plain": [
       "          0         1         2         3         4\n",
       "0 -0.095847  2.016646  0.215286 -0.935430  0.245228\n",
       "1 -0.604492 -0.299550  1.793911 -1.370485  0.546791\n",
       "2  1.262095 -0.895578 -0.635078 -0.302393 -0.389642\n",
       "3  0.474629  0.011931  1.760115 -1.129628 -0.460183\n",
       "4 -0.179844  1.996739 -1.317550 -0.169985 -0.343790\n",
       "5  0.586624 -0.777309 -0.669965 -0.309959 -0.409040\n",
       "6  0.371966  1.049417 -1.257589 -0.163679 -0.454892\n",
       "7  0.311302 -0.258565 -0.563124 -0.238080 -0.278539\n",
       "8 -0.714154 -0.547797  0.537988  2.220928 -1.252006\n",
       "9 -0.214842  2.117350 -1.556306  0.123835 -0.456656"
      ]
     },
     "execution_count": 4,
     "metadata": {},
     "output_type": "execute_result"
    }
   ],
   "source": [
    "X_train.head(10)"
   ]
  },
  {
   "cell_type": "markdown",
   "id": "60a4df2e-0491-41b0-919e-e8ab38fe829f",
   "metadata": {
    "tags": []
   },
   "source": [
    "### Modelling the Data"
   ]
  },
  {
   "cell_type": "code",
   "execution_count": 5,
   "id": "7f8033b6-de98-45fb-a9c4-3f670ce5ff61",
   "metadata": {},
   "outputs": [
    {
     "data": {
      "text/html": [
       "<div>\n",
       "<style scoped>\n",
       "    .dataframe tbody tr th:only-of-type {\n",
       "        vertical-align: middle;\n",
       "    }\n",
       "\n",
       "    .dataframe tbody tr th {\n",
       "        vertical-align: top;\n",
       "    }\n",
       "\n",
       "    .dataframe thead th {\n",
       "        text-align: right;\n",
       "    }\n",
       "</style>\n",
       "<table border=\"1\" class=\"dataframe\">\n",
       "  <thead>\n",
       "    <tr style=\"text-align: right;\">\n",
       "      <th></th>\n",
       "      <th>model</th>\n",
       "      <th>Accuracy</th>\n",
       "      <th>Precision</th>\n",
       "      <th>Recall</th>\n",
       "      <th>F1</th>\n",
       "    </tr>\n",
       "  </thead>\n",
       "  <tbody>\n",
       "  </tbody>\n",
       "</table>\n",
       "</div>"
      ],
      "text/plain": [
       "Empty DataFrame\n",
       "Columns: [model, Accuracy, Precision, Recall, F1]\n",
       "Index: []"
      ]
     },
     "execution_count": 5,
     "metadata": {},
     "output_type": "execute_result"
    }
   ],
   "source": [
    "performance = pd.DataFrame({\"model\": [], \"Accuracy\": [], \"Precision\": [], \"Recall\": [], \"F1\": []})\n",
    "performance\n"
   ]
  },
  {
   "cell_type": "markdown",
   "id": "e84f85fb-02b2-480c-974a-18a840ffeffe",
   "metadata": {},
   "source": [
    "- Our primary goal is to identify the correct sound i.e, Nasal or Oral., with a high degree of accuracy, then accuracy is the best scoring metric. Therefore we are considering accuracy as the scoring metric."
   ]
  },
  {
   "cell_type": "markdown",
   "id": "da763804-a14a-4d1c-953b-89c0a5f26be0",
   "metadata": {
    "tags": []
   },
   "source": [
    "## Fitting a Logistic Regression Model"
   ]
  },
  {
   "cell_type": "code",
   "execution_count": 6,
   "id": "ece09bec-6984-42ed-af23-53f44b389ec9",
   "metadata": {},
   "outputs": [],
   "source": [
    "log_reg_model = LogisticRegression()\n",
    "_ = log_reg_model.fit(X_train, np.ravel(y_train))"
   ]
  },
  {
   "cell_type": "code",
   "execution_count": 7,
   "id": "45a02d69-1dc8-43f4-889c-1479a9aba6eb",
   "metadata": {},
   "outputs": [],
   "source": [
    "model_preds = log_reg_model.predict(X_test)\n",
    "c_matrix = confusion_matrix(y_test, model_preds)\n",
    "TP = c_matrix[1][1]\n",
    "TN = c_matrix[0][0]\n",
    "FP = c_matrix[0][1]\n",
    "FN = c_matrix[1][0]\n",
    "performance = pd.concat([performance, pd.DataFrame({'model':\"Default Logistic\", \n",
    "                                                    'Accuracy': [(TP+TN)/(TP+TN+FP+FN)], \n",
    "                                                    'Precision': [TP/(TP+FP)], \n",
    "                                                    'Recall': [TP/(TP+FN)], \n",
    "                                                    'F1': [2*TP/(2*TP+FP+FN)]\n",
    "                                                     }, index=[0])])"
   ]
  },
  {
   "cell_type": "markdown",
   "id": "6d593fa5-4fc6-427e-aff7-d92fd90ab8f0",
   "metadata": {},
   "source": [
    "### Logistic Regression using RandomSearchCV "
   ]
  },
  {
   "cell_type": "code",
   "execution_count": 9,
   "id": "ca3c9aee-a10c-4c71-a032-3939e3b3a17b",
   "metadata": {},
   "outputs": [
    {
     "name": "stdout",
     "output_type": "stream",
     "text": [
      "The best accuracy score is 0.7506746288258893\n",
      "... with parameters: {'penalty': 'l2', 'C': 100}\n"
     ]
    }
   ],
   "source": [
    "hyperparam= {'C':[0.001, 0.01, 0.1, 1, 10, 100],\n",
    "                      'penalty':['l2', 'l1']\n",
    "                     }\n",
    "\n",
    "score_measure = \"accuracy\"\n",
    "#create a logistic regression model\n",
    "logistic_model = LogisticRegression()\n",
    "\n",
    "#create a random search cv object\n",
    "random_search = RandomizedSearchCV(estimator=logistic_model,\n",
    "                                     param_distributions=hyperparam,\n",
    "                                     cv=5,scoring=score_measure,\n",
    "                                     n_iter=10,\n",
    "                                     n_jobs=-1,\n",
    "                                   )\n",
    "\n",
    "_ = random_search.fit(X_train, y_train)\n",
    "\n",
    "print(f\"The best {score_measure} score is {random_search.best_score_}\")\n",
    "print(f\"... with parameters: {random_search.best_params_}\")\n",
    "\n",
    "bestRecallTree = random_search.best_estimator_\n"
   ]
  },
  {
   "cell_type": "code",
   "execution_count": 11,
   "id": "7ca55a7b-fca9-4dc1-8225-ff5c417a003a",
   "metadata": {},
   "outputs": [],
   "source": [
    "c_matrix = confusion_matrix(y_test, random_search.predict(X_test))\n",
    "TP = c_matrix[1][1]\n",
    "TN = c_matrix[0][0]\n",
    "FP = c_matrix[0][1]\n",
    "FN = c_matrix[1][0]\n",
    "\n",
    "performance = pd.concat([performance, pd.DataFrame({'model':\"LogReg - RandomCV\", \n",
    "                                                    'Accuracy': [(TP+TN)/(TP+TN+FP+FN)], \n",
    "                                                    'Precision': [TP/(TP+FP)], \n",
    "                                                    'Recall': [TP/(TP+FN)], \n",
    "                                                    'F1': [2*TP/(2*TP+FP+FN)]\n",
    "                                                     }, index=[0])])"
   ]
  },
  {
   "cell_type": "markdown",
   "id": "2f8e3256-4ea7-46c6-98a9-ee44c62bcbf3",
   "metadata": {},
   "source": [
    "### Logistic Regression using GridsearchCV"
   ]
  },
  {
   "cell_type": "code",
   "execution_count": 12,
   "id": "cabff247-0280-4adc-8fe5-97a0e28a78bd",
   "metadata": {},
   "outputs": [
    {
     "name": "stdout",
     "output_type": "stream",
     "text": [
      "The best accuracy score is 0.7506746288258893\n",
      "... with parameters: {'C': 1, 'penalty': 'l2'}\n"
     ]
    }
   ],
   "source": [
    "score_measure = \"accuracy\"\n",
    "\n",
    "Log_Reg = LogisticRegression()\n",
    "\n",
    "#Define the parameter grid\n",
    "param_grid = {\n",
    "    'penalty':['l1','l2'],\n",
    "    'C':[0.1,1,10]\n",
    "}\n",
    "\n",
    "#Create the grid search object\n",
    "grid_searchCV = GridSearchCV(estimator=Log_Reg, param_grid=param_grid, cv = 5, scoring= score_measure )\n",
    "\n",
    "\n",
    "_ = grid_searchCV.fit(X_train, y_train)\n",
    "\n",
    "print(f\"The best {score_measure} score is {grid_searchCV.best_score_}\")\n",
    "print(f\"... with parameters: {grid_searchCV.best_params_}\")\n",
    "\n",
    "bestRecallTree = grid_searchCV.best_estimator_"
   ]
  },
  {
   "cell_type": "code",
   "execution_count": 13,
   "id": "776c12b1-8352-4669-b0c6-aed7f2894cba",
   "metadata": {},
   "outputs": [],
   "source": [
    "c_matrix = confusion_matrix(y_test, grid_searchCV.predict(X_test))\n",
    "TP = c_matrix[1][1]\n",
    "TN = c_matrix[0][0]\n",
    "FP = c_matrix[0][1]\n",
    "FN = c_matrix[1][0]\n",
    "\n",
    "performance = pd.concat([performance, pd.DataFrame({'model':\"LogReg - GridCV\", \n",
    "                                                    'Accuracy': [(TP+TN)/(TP+TN+FP+FN)], \n",
    "                                                    'Precision': [TP/(TP+FP)], \n",
    "                                                    'Recall': [TP/(TP+FN)], \n",
    "                                                    'F1': [2*TP/(2*TP+FP+FN)]\n",
    "                                                     }, index=[0])])"
   ]
  },
  {
   "cell_type": "markdown",
   "id": "bd47d344-8051-495b-b29e-7fb6a49d12e1",
   "metadata": {},
   "source": [
    "### Decision Tree classification model using defaults "
   ]
  },
  {
   "cell_type": "code",
   "execution_count": 14,
   "id": "d3b79935-44f0-4b79-9bc8-d9c8b57dba88",
   "metadata": {},
   "outputs": [],
   "source": [
    "decitree = DecisionTreeClassifier().fit(X_train, np.ravel(y_train))"
   ]
  },
  {
   "cell_type": "code",
   "execution_count": 15,
   "id": "ecfd75b2-1d2c-4ba0-ba5c-86f2d1e0b011",
   "metadata": {},
   "outputs": [],
   "source": [
    "c_matrix = confusion_matrix(y_test, decitree.predict(X_test))\n",
    "TP = c_matrix[1][1]\n",
    "TN = c_matrix[0][0]\n",
    "FP = c_matrix[0][1]\n",
    "FN = c_matrix[1][0]\n",
    "performance = pd.concat([performance, pd.DataFrame({'model':\"Decision Tree using Defaults\", \n",
    "                                                    'Accuracy': [(TP+TN)/(TP+TN+FP+FN)], \n",
    "                                                    'Precision': [TP/(TP+FP)], \n",
    "                                                    'Recall': [TP/(TP+FN)], \n",
    "                                                    'F1': [2*TP/(2*TP+FP+FN)]\n",
    "                                                     }, index=[0])])"
   ]
  },
  {
   "cell_type": "markdown",
   "id": "d36304c7-e4be-46d0-8be0-0a57b4f20c53",
   "metadata": {},
   "source": [
    "#### Decision Tree using RandomsearchCV"
   ]
  },
  {
   "cell_type": "code",
   "execution_count": 16,
   "id": "2e63da48-eede-4d8d-b92b-6f055b14d967",
   "metadata": {},
   "outputs": [
    {
     "name": "stdout",
     "output_type": "stream",
     "text": [
      "Fitting 5 folds for each of 500 candidates, totalling 2500 fits\n",
      "The best accuracy score is 0.8286360698125403\n",
      "... with parameters: {'min_samples_split': 2, 'min_samples_leaf': 3, 'min_impurity_decrease': 0.0026, 'max_leaf_nodes': 102, 'max_depth': 12, 'criterion': 'entropy'}\n"
     ]
    }
   ],
   "source": [
    "score_measure = \"accuracy\"\n",
    "kfolds = 5\n",
    "\n",
    "param_grid = {\n",
    "    'min_samples_split': np.arange(1,70),  \n",
    "    'min_samples_leaf': np.arange(1,70),\n",
    "    'min_impurity_decrease': np.arange(0.0001, 0.01, 0.0005),\n",
    "    'max_leaf_nodes': np.arange(5, 200), \n",
    "    'max_depth': np.arange(1,50), \n",
    "    'criterion': ['entropy', 'gini'],\n",
    "}\n",
    "\n",
    "dtree = DecisionTreeClassifier()\n",
    "rand_search = RandomizedSearchCV(estimator = dtree, param_distributions=param_grid, cv=kfolds, n_iter=500,\n",
    "                           scoring=score_measure, verbose=1, n_jobs=-1,  # n_jobs=-1 will utilize all available CPUs \n",
    "                           return_train_score=True)\n",
    "\n",
    "_ = rand_search.fit(X_train, y_train)\n",
    "\n",
    "print(f\"The best {score_measure} score is {rand_search.best_score_}\")\n",
    "print(f\"... with parameters: {rand_search.best_params_}\")\n",
    "\n",
    "bestRecallTree = rand_search.best_estimator_"
   ]
  },
  {
   "cell_type": "code",
   "execution_count": 17,
   "id": "b053dd83-d7cb-44b3-967f-1968fa6793e0",
   "metadata": {},
   "outputs": [],
   "source": [
    "c_matrix = confusion_matrix(y_test, rand_search.predict(X_test))\n",
    "TP = c_matrix[1][1]\n",
    "TN = c_matrix[0][0]\n",
    "FP = c_matrix[0][1]\n",
    "FN = c_matrix[1][0]\n",
    "\n",
    "performance = pd.concat([performance, pd.DataFrame({'model':\"Decision Tree- RandCV\", \n",
    "                                                    'Accuracy': [(TP+TN)/(TP+TN+FP+FN)], \n",
    "                                                    'Precision': [TP/(TP+FP)], \n",
    "                                                    'Recall': [TP/(TP+FN)], \n",
    "                                                    'F1': [2*TP/(2*TP+FP+FN)]\n",
    "                                                     }, index=[0])])"
   ]
  },
  {
   "cell_type": "markdown",
   "id": "4477c422-d1f7-4f33-9c13-75b6cda87e3e",
   "metadata": {},
   "source": [
    "#### Decision Tree using GridsearchCV"
   ]
  },
  {
   "cell_type": "code",
   "execution_count": 18,
   "id": "0b6fed44-830d-431c-9d95-d9fd24070135",
   "metadata": {},
   "outputs": [
    {
     "name": "stdout",
     "output_type": "stream",
     "text": [
      "Fitting 5 folds for each of 9072 candidates, totalling 45360 fits\n",
      "The best accuracy score is 0.8068868573070255\n",
      "... with parameters: {'criterion': 'entropy', 'max_depth': 15, 'max_leaf_nodes': 162, 'min_impurity_decrease': 0.0048, 'min_samples_leaf': 6, 'min_samples_split': 30}\n"
     ]
    }
   ],
   "source": [
    "score_measure = \"accuracy\"\n",
    "kfolds = 5\n",
    "\n",
    "param_grid = {\n",
    "    'min_samples_split': np.arange(30,36),  \n",
    "    'min_samples_leaf': np.arange(6,12),\n",
    "    'min_impurity_decrease': np.arange(0.0048, 0.0054, 0.0001),\n",
    "    'max_leaf_nodes': np.arange(162,168), \n",
    "    'max_depth': np.arange(15,21), \n",
    "    'criterion': ['entropy'],\n",
    "}\n",
    "\n",
    "dtree = DecisionTreeClassifier()\n",
    "grid_search = GridSearchCV(estimator = dtree, param_grid=param_grid, cv=kfolds, \n",
    "                           scoring=score_measure, verbose=1, n_jobs=-1,  # n_jobs=-1 will utilize all available CPUs \n",
    "                           return_train_score=True)\n",
    "\n",
    "_ = grid_search.fit(X_train, y_train)\n",
    "\n",
    "print(f\"The best {score_measure} score is {grid_search.best_score_}\")\n",
    "print(f\"... with parameters: {grid_search.best_params_}\")\n",
    "\n",
    "bestRecallTree = grid_search.best_estimator_"
   ]
  },
  {
   "cell_type": "code",
   "execution_count": 19,
   "id": "81296689-8362-4987-875e-9661a72adc90",
   "metadata": {},
   "outputs": [],
   "source": [
    "c_matrix = confusion_matrix(y_test, grid_search.predict(X_test))\n",
    "TP = c_matrix[1][1]\n",
    "TN = c_matrix[0][0]\n",
    "FP = c_matrix[0][1]\n",
    "FN = c_matrix[1][0]\n",
    "\n",
    "\n",
    "performance = pd.concat([performance, pd.DataFrame({'model':\"Decision Tree- GridCV\", \n",
    "                                                    'Accuracy': [(TP+TN)/(TP+TN+FP+FN)], \n",
    "                                                    'Precision': [TP/(TP+FP)], \n",
    "                                                    'Recall': [TP/(TP+FN)], \n",
    "                                                    'F1': [2*TP/(2*TP+FP+FN)]\n",
    "                                                     }, index=[0])])"
   ]
  },
  {
   "cell_type": "markdown",
   "id": "b20cb9f2-8d43-4f56-853c-38426f0e5233",
   "metadata": {},
   "source": [
    "#### SVM model using linear kernal"
   ]
  },
  {
   "cell_type": "code",
   "execution_count": 20,
   "id": "b7420db5-6e9c-4f9a-bb19-31bdd09bec63",
   "metadata": {},
   "outputs": [],
   "source": [
    "from sklearn.svm import SVC\n",
    "svm_linear_model = SVC(kernel=\"linear\")\n",
    "_ = svm_linear_model.fit(X_train, np.ravel(y_train))"
   ]
  },
  {
   "cell_type": "code",
   "execution_count": 21,
   "id": "543e4cde-458a-4881-ad98-40556f670882",
   "metadata": {},
   "outputs": [],
   "source": [
    "model_preds = svm_linear_model.predict(X_test)\n",
    "c_matrix = confusion_matrix(y_test, model_preds)\n",
    "TP = c_matrix[1][1]\n",
    "TN = c_matrix[0][0]\n",
    "FP = c_matrix[0][1]\n",
    "FN = c_matrix[1][0]\n",
    "performance = pd.concat([performance, pd.DataFrame({'model':\"SVM Linear\", \n",
    "                                                    'Accuracy': [(TP+TN)/(TP+TN+FP+FN)], \n",
    "                                                    'Precision': [TP/(TP+FP)], \n",
    "                                                    'Recall': [TP/(TP+FN)], \n",
    "                                                    'F1': [2*TP/(2*TP+FP+FN)]\n",
    "                                                     }, index=[0])])"
   ]
  },
  {
   "cell_type": "markdown",
   "id": "20e536dd-0600-47c0-9601-8a68568931c7",
   "metadata": {},
   "source": [
    "#### SVM Linear Model - RandomSearch CV"
   ]
  },
  {
   "cell_type": "code",
   "execution_count": 22,
   "id": "2fe06e03-e8e2-49fc-a7ce-1b21dbdade66",
   "metadata": {},
   "outputs": [
    {
     "name": "stdout",
     "output_type": "stream",
     "text": [
      "Fitting 5 folds for each of 12 candidates, totalling 60 fits\n",
      "The best accuracy score is 0.751584736458686\n",
      "... with parameters: {'max_iter': 1500, 'C': 1}\n"
     ]
    }
   ],
   "source": [
    "score_measure = \"accuracy\"\n",
    "# Create parameter grid\n",
    "param_grid = {'C': [0.1, 1, 10, 100],\n",
    "              'max_iter': [1000, 1500, 2000]}\n",
    "\n",
    "#create a SVM classifier\n",
    "classifier = SVC(kernel='linear')\n",
    "\n",
    "# Create the random search model\n",
    "rand_search = RandomizedSearchCV(classifier, param_grid, cv=5, n_iter=50, scoring=score_measure, n_jobs=-1, verbose=1)\n",
    "\n",
    "\n",
    "_ = rand_search.fit(X_train, y_train)\n",
    "\n",
    "print(f\"The best {score_measure} score is {rand_search.best_score_}\")\n",
    "print(f\"... with parameters: {rand_search.best_params_}\")\n",
    "\n",
    "bestRecallTree = rand_search.best_estimator_"
   ]
  },
  {
   "cell_type": "code",
   "execution_count": 23,
   "id": "ead218f3-43e2-4d09-8b60-3b965022e4e8",
   "metadata": {},
   "outputs": [],
   "source": [
    "c_matrix = confusion_matrix(y_test, rand_search.predict(X_test))\n",
    "TP = c_matrix[1][1]\n",
    "TN = c_matrix[0][0]\n",
    "FP = c_matrix[0][1]\n",
    "FN = c_matrix[1][0]\n",
    "\n",
    "performance = pd.concat([performance, pd.DataFrame({'model':\"SVM Linear- RandCV\", \n",
    "                                                    'Accuracy': [(TP+TN)/(TP+TN+FP+FN)], \n",
    "                                                    'Precision': [TP/(TP+FP)], \n",
    "                                                    'Recall': [TP/(TP+FN)], \n",
    "                                                    'F1': [2*TP/(2*TP+FP+FN)]\n",
    "                                                     }, index=[0])])"
   ]
  },
  {
   "cell_type": "markdown",
   "id": "4d9ca922-6b13-4bf7-b6b4-5aae6b2b7fc0",
   "metadata": {},
   "source": [
    "#### SVM Linear using GridSearchCV"
   ]
  },
  {
   "cell_type": "code",
   "execution_count": 24,
   "id": "0ab24b9d-e7aa-418d-8273-371fd8ef1e0b",
   "metadata": {},
   "outputs": [
    {
     "name": "stdout",
     "output_type": "stream",
     "text": [
      "The best accuracy score is 0.7479566185448537\n",
      "... with parameters: {'C': 0.1, 'gamma': 1, 'kernel': 'linear'}\n"
     ]
    }
   ],
   "source": [
    "score_measure = \"accuracy\"\n",
    "kfolds = 5\n",
    "#create a SVM classifier\n",
    "clf = SVC(kernel='linear')\n",
    "#define the parameter grid\n",
    "param_grid = {'C': [0.1, 1, 10, 100],  \n",
    "              'gamma': [1, 0.1, 0.01, 0.001], \n",
    "              'kernel': ['linear']}  \n",
    "#instantiate the GridSearchCV object\n",
    "grid_search = GridSearchCV(clf, param_grid, cv=5, scoring= score_measure)\n",
    "\n",
    "\n",
    "_ = grid_search.fit(X_train, y_train)\n",
    "\n",
    "print(f\"The best {score_measure} score is {grid_search.best_score_}\")\n",
    "print(f\"... with parameters: {grid_search.best_params_}\")\n",
    "\n",
    "bestRecallTree = grid_search.best_estimator_\n"
   ]
  },
  {
   "cell_type": "code",
   "execution_count": 25,
   "id": "bf60ca88-b305-4425-bd38-1c2e8cf13c2b",
   "metadata": {},
   "outputs": [],
   "source": [
    "c_matrix = confusion_matrix(y_test, grid_search.predict(X_test))\n",
    "TP = c_matrix[1][1]\n",
    "TN = c_matrix[0][0]\n",
    "FP = c_matrix[0][1]\n",
    "FN = c_matrix[1][0]\n",
    "\n",
    "performance = pd.concat([performance, pd.DataFrame({'model':\"SVM Linear- GridCV\", \n",
    "                                                    'Accuracy': [(TP+TN)/(TP+TN+FP+FN)], \n",
    "                                                    'Precision': [TP/(TP+FP)], \n",
    "                                                    'Recall': [TP/(TP+FN)], \n",
    "                                                    'F1': [2*TP/(2*TP+FP+FN)]\n",
    "                                                     }, index=[0])])"
   ]
  },
  {
   "cell_type": "markdown",
   "id": "25f33317-1a5c-4265-9070-f976c517948d",
   "metadata": {},
   "source": [
    "#### SVM classification model using rbf kernal"
   ]
  },
  {
   "cell_type": "code",
   "execution_count": 26,
   "id": "ffc90dc5-0987-4762-baf2-ce883b06c8ec",
   "metadata": {},
   "outputs": [],
   "source": [
    "svm_rbf_model = SVC(kernel=\"rbf\", C=10, gamma='scale')\n",
    "_ = svm_rbf_model.fit(X_train, np.ravel(y_train))"
   ]
  },
  {
   "cell_type": "code",
   "execution_count": 27,
   "id": "8fdb8b2d-e0ea-4dd8-961f-ce5b29c851f2",
   "metadata": {},
   "outputs": [],
   "source": [
    "model_preds = svm_rbf_model.predict(X_test)\n",
    "c_matrix = confusion_matrix(y_test, model_preds)\n",
    "TP = c_matrix[1][1]\n",
    "TN = c_matrix[0][0]\n",
    "FP = c_matrix[0][1]\n",
    "FN = c_matrix[1][0]\n",
    "performance = pd.concat([performance, pd.DataFrame({'model':\"SVM rbf\", \n",
    "                                                    'Accuracy': [(TP+TN)/(TP+TN+FP+FN)], \n",
    "                                                    'Precision': [TP/(TP+FP)], \n",
    "                                                    'Recall': [TP/(TP+FN)], \n",
    "                                                    'F1': [2*TP/(2*TP+FP+FN)]\n",
    "                                                     }, index=[0])])"
   ]
  },
  {
   "cell_type": "markdown",
   "id": "44419d21-b471-4317-9822-732bac74faac",
   "metadata": {},
   "source": [
    "#### SVM rbf - RandomSearchCV"
   ]
  },
  {
   "cell_type": "code",
   "execution_count": 29,
   "id": "169f0dd3-d19a-4338-818c-0c2deb5e7ffa",
   "metadata": {},
   "outputs": [
    {
     "name": "stdout",
     "output_type": "stream",
     "text": [
      "Fitting 5 folds for each of 12 candidates, totalling 60 fits\n",
      "The best accuracy score is 0.8381650095935811\n",
      "... with parameters: {'max_iter': 1500, 'C': 10}\n"
     ]
    }
   ],
   "source": [
    "score_measure = \"accuracy\"\n",
    "param_grid = {'C': [0.1, 1, 10, 100],\n",
    "              'max_iter': [1000, 1500, 2000]}\n",
    "\n",
    "#create a SVM classifier\n",
    "svm_clf = SVC(kernel='rbf')\n",
    "\n",
    "# Create the random search model\n",
    "random_search_rbf = RandomizedSearchCV(svm_clf, param_grid, cv=5, n_iter=50, scoring=score_measure, n_jobs=-1, verbose=1)\n",
    "\n",
    "\n",
    "_ = random_search_rbf.fit(X_train, y_train)\n",
    "\n",
    "print(f\"The best {score_measure} score is {random_search_rbf.best_score_}\")\n",
    "print(f\"... with parameters: {random_search_rbf.best_params_}\")\n",
    "\n",
    "bestRecallTree = random_search_rbf.best_estimator_"
   ]
  },
  {
   "cell_type": "code",
   "execution_count": 30,
   "id": "e3e7e6f2-3112-4b64-a823-f367f57328a2",
   "metadata": {},
   "outputs": [],
   "source": [
    "c_matrix = confusion_matrix(y_test, random_search_rbf.predict(X_test))\n",
    "TP = c_matrix[1][1]\n",
    "TN = c_matrix[0][0]\n",
    "FP = c_matrix[0][1]\n",
    "FN = c_matrix[1][0]\n",
    "\n",
    "performance = pd.concat([performance, pd.DataFrame({'model':\"SVM rbf- RandCV\", \n",
    "                                                    'Accuracy': [(TP+TN)/(TP+TN+FP+FN)], \n",
    "                                                    'Precision': [TP/(TP+FP)], \n",
    "                                                    'Recall': [TP/(TP+FN)], \n",
    "                                                    'F1': [2*TP/(2*TP+FP+FN)]\n",
    "                                                     }, index=[0])])"
   ]
  },
  {
   "cell_type": "markdown",
   "id": "7847884b-d9c7-4cf9-bc01-941eb79a1ebc",
   "metadata": {},
   "source": [
    "### SVM rbf - GridSearchCV"
   ]
  },
  {
   "cell_type": "code",
   "execution_count": 31,
   "id": "794a27ca-6016-41c1-a17d-5951a5042bcc",
   "metadata": {},
   "outputs": [
    {
     "name": "stdout",
     "output_type": "stream",
     "text": [
      "The best accuracy score is 0.8612819486769068\n",
      "... with parameters: {'C': 10, 'gamma': 1, 'kernel': 'rbf'}\n"
     ]
    }
   ],
   "source": [
    "score_measure = \"accuracy\"\n",
    "clf = SVC(kernel='rbf')\n",
    "\n",
    "#define the parameter grid\n",
    "param_grid = {'C': [0.1, 1, 10, 100],  \n",
    "              'gamma': [1, 0.1, 0.01, 0.001], \n",
    "              'kernel': ['rbf']} \n",
    "\n",
    "\n",
    "grid_CV = GridSearchCV(clf, param_grid, cv=5, scoring= score_measure)\n",
    "\n",
    "\n",
    "_ = grid_CV.fit(X_train, y_train)\n",
    "\n",
    "print(f\"The best {score_measure} score is {grid_CV.best_score_}\")\n",
    "print(f\"... with parameters: {grid_CV.best_params_}\")\n",
    "\n",
    "bestRecallTree = grid_CV.best_estimator_\n"
   ]
  },
  {
   "cell_type": "code",
   "execution_count": 32,
   "id": "5c789f11-864b-4177-9740-85b3dff35f76",
   "metadata": {},
   "outputs": [],
   "source": [
    "c_matrix = confusion_matrix(y_test, grid_CV.predict(X_test))\n",
    "TP = c_matrix[1][1]\n",
    "TN = c_matrix[0][0]\n",
    "FP = c_matrix[0][1]\n",
    "FN = c_matrix[1][0]\n",
    "\n",
    "performance = pd.concat([performance, pd.DataFrame({'model':\"SVM rbf- GridCV\", \n",
    "                                                    'Accuracy': [(TP+TN)/(TP+TN+FP+FN)], \n",
    "                                                    'Precision': [TP/(TP+FP)], \n",
    "                                                    'Recall': [TP/(TP+FN)], \n",
    "                                                    'F1': [2*TP/(2*TP+FP+FN)]\n",
    "                                                     }, index=[0])])"
   ]
  },
  {
   "cell_type": "markdown",
   "id": "d96a105c-8da2-46e9-9eb3-1b7a57fb0248",
   "metadata": {},
   "source": [
    "#### SVM classification model using polynomial kernal"
   ]
  },
  {
   "cell_type": "code",
   "execution_count": 33,
   "id": "9eca9939-4cd2-46bb-a70a-7adf06899a69",
   "metadata": {},
   "outputs": [],
   "source": [
    "svm_poly_model = SVC(kernel=\"poly\", degree=3, coef0=1, C=10, probability = True)\n",
    "_ = svm_poly_model.fit(X_train, np.ravel(y_train))"
   ]
  },
  {
   "cell_type": "code",
   "execution_count": 34,
   "id": "1823f16d-6e48-4f6b-9bc3-f68c7e17ea98",
   "metadata": {},
   "outputs": [],
   "source": [
    "model_preds = svm_poly_model.predict(X_test)\n",
    "c_matrix = confusion_matrix(y_test, model_preds)\n",
    "TP = c_matrix[1][1]\n",
    "TN = c_matrix[0][0]\n",
    "FP = c_matrix[0][1]\n",
    "FN = c_matrix[1][0]\n",
    "performance = pd.concat([performance, pd.DataFrame({'model':\"poly svm\", \n",
    "                                                    'Accuracy': [(TP+TN)/(TP+TN+FP+FN)], \n",
    "                                                    'Precision': [TP/(TP+FP)], \n",
    "                                                    'Recall': [TP/(TP+FN)], \n",
    "                                                    'F1': [2*TP/(2*TP+FP+FN)]\n",
    "                                                     }, index=[0])])"
   ]
  },
  {
   "cell_type": "markdown",
   "id": "18c1efee-4983-4a49-bab9-444488f76185",
   "metadata": {},
   "source": [
    "### SVM Poly - RandomSearchCV"
   ]
  },
  {
   "cell_type": "code",
   "execution_count": 35,
   "id": "ae0ec53e-a24a-4129-81f7-eee5d248bb03",
   "metadata": {},
   "outputs": [
    {
     "name": "stdout",
     "output_type": "stream",
     "text": [
      "Fitting 5 folds for each of 12 candidates, totalling 60 fits\n",
      "The best accuracy score is 0.7615497481043699\n",
      "... with parameters: {'max_iter': 2000, 'C': 1}\n"
     ]
    }
   ],
   "source": [
    "score_measure = \"accuracy\"\n",
    "param_grid = {'C': [0.1, 1, 10, 100],\n",
    "              'max_iter': [1000, 1500, 2000]}\n",
    "\n",
    "svm_clf = SVC(kernel='poly')\n",
    "\n",
    "# Create the random search model\n",
    "rand_search_polym = RandomizedSearchCV(svm_clf, param_grid, cv=5, n_iter=50, scoring=score_measure, n_jobs=-1, verbose=1)\n",
    "\n",
    "\n",
    "_ = rand_search_polym.fit(X_train, y_train)\n",
    "\n",
    "print(f\"The best {score_measure} score is {rand_search_polym.best_score_}\")\n",
    "print(f\"... with parameters: {rand_search_polym.best_params_}\")\n",
    "\n",
    "bestRecallTree = rand_search_polym.best_estimator_"
   ]
  },
  {
   "cell_type": "code",
   "execution_count": 36,
   "id": "84fb0966-cc41-43f2-ac95-5c26aaa65e8d",
   "metadata": {},
   "outputs": [],
   "source": [
    "c_matrix = confusion_matrix(y_test, rand_search_polym.predict(X_test))\n",
    "TP = c_matrix[1][1]\n",
    "TN = c_matrix[0][0]\n",
    "FP = c_matrix[0][1]\n",
    "FN = c_matrix[1][0]\n",
    "\n",
    "performance = pd.concat([performance, pd.DataFrame({'model':\"SVM Poly- RandCV\", \n",
    "                                                    'Accuracy': [(TP+TN)/(TP+TN+FP+FN)], \n",
    "                                                    'Precision': [TP/(TP+FP)], \n",
    "                                                    'Recall': [TP/(TP+FN)], \n",
    "                                                    'F1': [2*TP/(2*TP+FP+FN)]\n",
    "                                                     }, index=[0])])"
   ]
  },
  {
   "cell_type": "markdown",
   "id": "c4c8a0fa-eb25-4d39-bb7b-6a2d018c556a",
   "metadata": {},
   "source": [
    "#### SVM Poly - GridSearchCV"
   ]
  },
  {
   "cell_type": "code",
   "execution_count": 37,
   "id": "ba9c642d-106f-4054-9c60-d620594a37c4",
   "metadata": {},
   "outputs": [
    {
     "name": "stdout",
     "output_type": "stream",
     "text": [
      "The best accuracy score is 0.7620083931008301\n",
      "... with parameters: {'C': 100, 'gamma': 1, 'kernel': 'poly'}\n"
     ]
    }
   ],
   "source": [
    "score_measure = \"accuracy\"\n",
    "clf = SVC(kernel='poly')\n",
    "\n",
    "#define the parameter grid\n",
    "param_grid = {'C': [0.1, 1, 10, 100],  \n",
    "              'gamma': [1, 0.1, 0.01, 0.001], \n",
    "              'kernel': ['poly']}  \n",
    "#instantiate the GridSearchCV object\n",
    "grid_search = GridSearchCV(clf, param_grid, cv=5, scoring= score_measure)\n",
    "\n",
    "\n",
    "_ = grid_search.fit(X_train, y_train)\n",
    "\n",
    "print(f\"The best {score_measure} score is {grid_search.best_score_}\")\n",
    "print(f\"... with parameters: {grid_search.best_params_}\")\n",
    "\n",
    "bestRecallTree = grid_search.best_estimator_"
   ]
  },
  {
   "cell_type": "code",
   "execution_count": 38,
   "id": "c0e39aba-c838-44e6-a4d2-872ca684c92f",
   "metadata": {},
   "outputs": [],
   "source": [
    "c_matrix = confusion_matrix(y_test, grid_search.predict(X_test))\n",
    "TP = c_matrix[1][1]\n",
    "TN = c_matrix[0][0]\n",
    "FP = c_matrix[0][1]\n",
    "FN = c_matrix[1][0]\n",
    "\n",
    "performance = pd.concat([performance, pd.DataFrame({'model':\"SVM Poly- GridCV\", \n",
    "                                                    'Accuracy': [(TP+TN)/(TP+TN+FP+FN)], \n",
    "                                                    'Precision': [TP/(TP+FP)], \n",
    "                                                    'Recall': [TP/(TP+FN)], \n",
    "                                                    'F1': [2*TP/(2*TP+FP+FN)]\n",
    "                                                     }, index=[0])])"
   ]
  },
  {
   "cell_type": "markdown",
   "id": "a39dafe7-b099-41c6-8518-792bdd8bcce8",
   "metadata": {},
   "source": [
    "### Neural Network with Default Parameters"
   ]
  },
  {
   "cell_type": "code",
   "execution_count": 39,
   "id": "27444716-7f1b-4758-84dc-f74cf064a528",
   "metadata": {},
   "outputs": [],
   "source": [
    "from sklearn.neural_network import MLPClassifier"
   ]
  },
  {
   "cell_type": "code",
   "execution_count": 40,
   "id": "95867ba3-7112-4c53-af74-84d5d9cb925b",
   "metadata": {},
   "outputs": [
    {
     "name": "stdout",
     "output_type": "stream",
     "text": [
      "CPU times: total: 17.8 s\n",
      "Wall time: 2.34 s\n"
     ]
    }
   ],
   "source": [
    "%%time\n",
    "ann = MLPClassifier(hidden_layer_sizes=(60,50,40), solver='adam', max_iter=200)\n",
    "_ = ann.fit(X_train, y_train)"
   ]
  },
  {
   "cell_type": "code",
   "execution_count": 41,
   "id": "8f4970fe-c7e5-4d9f-a0d8-17abc6796714",
   "metadata": {},
   "outputs": [
    {
     "name": "stdout",
     "output_type": "stream",
     "text": [
      "CPU times: total: 0 ns\n",
      "Wall time: 5.66 ms\n"
     ]
    }
   ],
   "source": [
    "%%time\n",
    "y_pred = ann.predict(X_test)"
   ]
  },
  {
   "cell_type": "code",
   "execution_count": 42,
   "id": "f3226b2a-cac5-42b4-a6e8-2affaf044aea",
   "metadata": {},
   "outputs": [
    {
     "name": "stdout",
     "output_type": "stream",
     "text": [
      "0.8372379778051788\n"
     ]
    }
   ],
   "source": [
    "nn_acc= accuracy_score(y_test, y_pred)\n",
    "print(nn_acc)"
   ]
  },
  {
   "cell_type": "code",
   "execution_count": 43,
   "id": "07dbd03b-5913-47d4-8652-4ec1a132acaf",
   "metadata": {},
   "outputs": [],
   "source": [
    "performance = pd.concat([performance, pd.DataFrame({'model':\"Neural Network\", \n",
    "                                                    'Accuracy': nn_acc, \n",
    "                                                    'Precision': precision_score(y_test, y_pred), \n",
    "                                                    'Recall': recall_score(y_test, y_pred), \n",
    "                                                    'F1': f1_score(y_test, y_pred)\n",
    "                                                     }, index=[0])])"
   ]
  },
  {
   "cell_type": "markdown",
   "id": "a04cd00a-1695-4f99-8efe-a24af7d13f14",
   "metadata": {},
   "source": [
    "### Neural Network - RandomsearchCV"
   ]
  },
  {
   "cell_type": "code",
   "execution_count": 44,
   "id": "a82521fe-40b9-4690-aa0b-0dedd4d121da",
   "metadata": {},
   "outputs": [
    {
     "name": "stdout",
     "output_type": "stream",
     "text": [
      "Fitting 5 folds for each of 100 candidates, totalling 500 fits\n",
      "{'solver': 'adam', 'max_iter': 5000, 'learning_rate_init': 0.01, 'learning_rate': 'constant', 'hidden_layer_sizes': (60, 40, 20), 'alpha': 0, 'activation': 'tanh'}\n",
      "CPU times: total: 16.2 s\n",
      "Wall time: 3min 15s\n"
     ]
    }
   ],
   "source": [
    "%%time\n",
    "\n",
    "score_measure = \"accuracy\"\n",
    "kfolds = 5\n",
    "\n",
    "param_grid = {\n",
    "    'hidden_layer_sizes': [ (50,), (70,),(50,30), (40,20), (60,40, 20), (70,50,40)],\n",
    "    'activation': ['logistic', 'tanh', 'relu'],\n",
    "    'solver': ['adam', 'sgd'],\n",
    "    'alpha': [0, .2, .5, .7, 1],\n",
    "    'learning_rate': ['constant', 'invscaling', 'adaptive'],\n",
    "    'learning_rate_init': [0.001, 0.01, 0.1, 0.2, 0.5],\n",
    "    'max_iter': [5000]\n",
    "}\n",
    "\n",
    "ann = MLPClassifier()\n",
    "grid_search = RandomizedSearchCV(estimator = ann, param_distributions=param_grid, cv=kfolds, n_iter=100,\n",
    "                           scoring=score_measure, verbose=1, n_jobs=-1,  # n_jobs=-1 will utilize all available CPUs \n",
    "                           return_train_score=True)\n",
    "\n",
    "_ = grid_search.fit(X_train, y_train)\n",
    "\n",
    "bestRecallTree = grid_search.best_estimator_\n",
    "\n",
    "print(grid_search.best_params_)"
   ]
  },
  {
   "cell_type": "code",
   "execution_count": 45,
   "id": "9835624e-3267-459d-acb8-23376f399943",
   "metadata": {},
   "outputs": [
    {
     "name": "stdout",
     "output_type": "stream",
     "text": [
      "0.8372379778051788\n"
     ]
    }
   ],
   "source": [
    "nn_acc_rand= accuracy_score(y_test, y_pred)\n",
    "print(nn_acc_rand)"
   ]
  },
  {
   "cell_type": "code",
   "execution_count": 46,
   "id": "99064216-315d-4b06-a0bc-218315063b06",
   "metadata": {},
   "outputs": [],
   "source": [
    "performance = pd.concat([performance, pd.DataFrame({'model':\"Neural Network RandomCV\", \n",
    "                                                    'Accuracy': nn_acc_rand, \n",
    "                                                    'Precision': precision_score(y_test, y_pred), \n",
    "                                                    'Recall': recall_score(y_test, y_pred), \n",
    "                                                    'F1': f1_score(y_test, y_pred)\n",
    "                                                     }, index=[0])])"
   ]
  },
  {
   "cell_type": "markdown",
   "id": "0e163808-5f17-482f-a830-88483868a49d",
   "metadata": {},
   "source": [
    "### Neural Networks With GridSearchCV"
   ]
  },
  {
   "cell_type": "code",
   "execution_count": 47,
   "id": "a696738a-e9ca-4aa9-bc1f-98c3c8ec654d",
   "metadata": {},
   "outputs": [
    {
     "name": "stdout",
     "output_type": "stream",
     "text": [
      "Fitting 5 folds for each of 144 candidates, totalling 720 fits\n",
      "{'activation': 'relu', 'alpha': 0.5, 'hidden_layer_sizes': (90,), 'learning_rate': 'invscaling', 'learning_rate_init': 0.01, 'max_iter': 5000, 'solver': 'adam'}\n",
      "CPU times: total: 6.11 s\n",
      "Wall time: 1min 10s\n"
     ]
    }
   ],
   "source": [
    "%%time\n",
    "\n",
    "score_measure = \"accuracy\"\n",
    "kfolds = 5\n",
    "\n",
    "param_grid = {\n",
    "    'hidden_layer_sizes': [ (30,), (50,), (70,), (90,)],\n",
    "    'activation': ['tanh', 'relu'],\n",
    "    'solver': ['adam'],\n",
    "    'alpha': [.5, .7, 1],\n",
    "    'learning_rate': ['adaptive', 'invscaling'],\n",
    "    'learning_rate_init': [0.005, 0.01, 0.15],\n",
    "    'max_iter': [5000]\n",
    "}\n",
    "\n",
    "ann = MLPClassifier()\n",
    "grid_search = GridSearchCV(estimator = ann, param_grid=param_grid, cv=kfolds, \n",
    "                           scoring=score_measure, verbose=1, n_jobs=-1,  # n_jobs=-1 will utilize all available CPUs \n",
    "                           return_train_score=True)\n",
    "\n",
    "_ = grid_search.fit(X_train, y_train)\n",
    "\n",
    "bestRecallTree = grid_search.best_estimator_\n",
    "\n",
    "print(grid_search.best_params_)"
   ]
  },
  {
   "cell_type": "code",
   "execution_count": 48,
   "id": "4f49fcc1-954e-4d03-8195-02831874b286",
   "metadata": {},
   "outputs": [
    {
     "name": "stdout",
     "output_type": "stream",
     "text": [
      "0.8372379778051788\n"
     ]
    }
   ],
   "source": [
    "nn_acc_grid= accuracy_score(y_test, y_pred)\n",
    "print(nn_acc_grid)"
   ]
  },
  {
   "cell_type": "code",
   "execution_count": 49,
   "id": "e7285c06-117c-41e8-be5b-93ae46bb5365",
   "metadata": {},
   "outputs": [],
   "source": [
    "performance = pd.concat([performance, pd.DataFrame({'model':\"Neural Network GridCV\", \n",
    "                                                    'Accuracy': nn_acc_grid, \n",
    "                                                    'Precision': precision_score(y_test, y_pred), \n",
    "                                                    'Recall': recall_score(y_test, y_pred), \n",
    "                                                    'F1': f1_score(y_test, y_pred)\n",
    "                                                     }, index=[0])])"
   ]
  },
  {
   "cell_type": "code",
   "execution_count": 50,
   "id": "438df67d-a864-431c-959c-6f5ad53ed04b",
   "metadata": {},
   "outputs": [
    {
     "data": {
      "text/html": [
       "<div>\n",
       "<style scoped>\n",
       "    .dataframe tbody tr th:only-of-type {\n",
       "        vertical-align: middle;\n",
       "    }\n",
       "\n",
       "    .dataframe tbody tr th {\n",
       "        vertical-align: top;\n",
       "    }\n",
       "\n",
       "    .dataframe thead th {\n",
       "        text-align: right;\n",
       "    }\n",
       "</style>\n",
       "<table border=\"1\" class=\"dataframe\">\n",
       "  <thead>\n",
       "    <tr style=\"text-align: right;\">\n",
       "      <th></th>\n",
       "      <th>model</th>\n",
       "      <th>Accuracy</th>\n",
       "      <th>Precision</th>\n",
       "      <th>Recall</th>\n",
       "      <th>F1</th>\n",
       "    </tr>\n",
       "  </thead>\n",
       "  <tbody>\n",
       "    <tr>\n",
       "      <th>0</th>\n",
       "      <td>Default Logistic</td>\n",
       "      <td>0.717016</td>\n",
       "      <td>0.516000</td>\n",
       "      <td>0.801242</td>\n",
       "      <td>0.627737</td>\n",
       "    </tr>\n",
       "    <tr>\n",
       "      <th>0</th>\n",
       "      <td>LogReg - RandomCV</td>\n",
       "      <td>0.717016</td>\n",
       "      <td>0.516000</td>\n",
       "      <td>0.801242</td>\n",
       "      <td>0.627737</td>\n",
       "    </tr>\n",
       "    <tr>\n",
       "      <th>0</th>\n",
       "      <td>LogReg - RandomCV</td>\n",
       "      <td>0.717016</td>\n",
       "      <td>0.516000</td>\n",
       "      <td>0.801242</td>\n",
       "      <td>0.627737</td>\n",
       "    </tr>\n",
       "    <tr>\n",
       "      <th>0</th>\n",
       "      <td>LogReg - GridCV</td>\n",
       "      <td>0.717016</td>\n",
       "      <td>0.516000</td>\n",
       "      <td>0.801242</td>\n",
       "      <td>0.627737</td>\n",
       "    </tr>\n",
       "    <tr>\n",
       "      <th>0</th>\n",
       "      <td>Decision Tree using Defaults</td>\n",
       "      <td>0.844636</td>\n",
       "      <td>0.694118</td>\n",
       "      <td>0.855072</td>\n",
       "      <td>0.766234</td>\n",
       "    </tr>\n",
       "    <tr>\n",
       "      <th>0</th>\n",
       "      <td>Decision Tree- RandCV</td>\n",
       "      <td>0.818126</td>\n",
       "      <td>0.663763</td>\n",
       "      <td>0.788820</td>\n",
       "      <td>0.720908</td>\n",
       "    </tr>\n",
       "    <tr>\n",
       "      <th>0</th>\n",
       "      <td>Decision Tree- GridCV</td>\n",
       "      <td>0.808878</td>\n",
       "      <td>0.627019</td>\n",
       "      <td>0.884058</td>\n",
       "      <td>0.733677</td>\n",
       "    </tr>\n",
       "    <tr>\n",
       "      <th>0</th>\n",
       "      <td>SVM Linear</td>\n",
       "      <td>0.709001</td>\n",
       "      <td>0.506765</td>\n",
       "      <td>0.853002</td>\n",
       "      <td>0.635802</td>\n",
       "    </tr>\n",
       "    <tr>\n",
       "      <th>0</th>\n",
       "      <td>SVM Linear- RandCV</td>\n",
       "      <td>0.688656</td>\n",
       "      <td>0.487028</td>\n",
       "      <td>0.855072</td>\n",
       "      <td>0.620586</td>\n",
       "    </tr>\n",
       "    <tr>\n",
       "      <th>0</th>\n",
       "      <td>SVM Linear- GridCV</td>\n",
       "      <td>0.709618</td>\n",
       "      <td>0.507371</td>\n",
       "      <td>0.855072</td>\n",
       "      <td>0.636854</td>\n",
       "    </tr>\n",
       "    <tr>\n",
       "      <th>0</th>\n",
       "      <td>SVM rbf</td>\n",
       "      <td>0.822441</td>\n",
       "      <td>0.641509</td>\n",
       "      <td>0.915114</td>\n",
       "      <td>0.754266</td>\n",
       "    </tr>\n",
       "    <tr>\n",
       "      <th>0</th>\n",
       "      <td>SVM rbf- RandCV</td>\n",
       "      <td>0.820592</td>\n",
       "      <td>0.638728</td>\n",
       "      <td>0.915114</td>\n",
       "      <td>0.752340</td>\n",
       "    </tr>\n",
       "    <tr>\n",
       "      <th>0</th>\n",
       "      <td>SVM rbf- GridCV</td>\n",
       "      <td>0.848952</td>\n",
       "      <td>0.690705</td>\n",
       "      <td>0.892340</td>\n",
       "      <td>0.778681</td>\n",
       "    </tr>\n",
       "    <tr>\n",
       "      <th>0</th>\n",
       "      <td>poly svm</td>\n",
       "      <td>0.806412</td>\n",
       "      <td>0.619519</td>\n",
       "      <td>0.906832</td>\n",
       "      <td>0.736134</td>\n",
       "    </tr>\n",
       "    <tr>\n",
       "      <th>0</th>\n",
       "      <td>SVM Poly- RandCV</td>\n",
       "      <td>0.725031</td>\n",
       "      <td>0.522103</td>\n",
       "      <td>0.904762</td>\n",
       "      <td>0.662121</td>\n",
       "    </tr>\n",
       "    <tr>\n",
       "      <th>0</th>\n",
       "      <td>SVM Poly- GridCV</td>\n",
       "      <td>0.726880</td>\n",
       "      <td>0.523810</td>\n",
       "      <td>0.910973</td>\n",
       "      <td>0.665155</td>\n",
       "    </tr>\n",
       "    <tr>\n",
       "      <th>0</th>\n",
       "      <td>Neural Network</td>\n",
       "      <td>0.837238</td>\n",
       "      <td>0.679214</td>\n",
       "      <td>0.859213</td>\n",
       "      <td>0.758684</td>\n",
       "    </tr>\n",
       "    <tr>\n",
       "      <th>0</th>\n",
       "      <td>Neural Network RandomCV</td>\n",
       "      <td>0.837238</td>\n",
       "      <td>0.679214</td>\n",
       "      <td>0.859213</td>\n",
       "      <td>0.758684</td>\n",
       "    </tr>\n",
       "    <tr>\n",
       "      <th>0</th>\n",
       "      <td>Neural Network GridCV</td>\n",
       "      <td>0.837238</td>\n",
       "      <td>0.679214</td>\n",
       "      <td>0.859213</td>\n",
       "      <td>0.758684</td>\n",
       "    </tr>\n",
       "  </tbody>\n",
       "</table>\n",
       "</div>"
      ],
      "text/plain": [
       "                          model  Accuracy  Precision    Recall        F1\n",
       "0              Default Logistic  0.717016   0.516000  0.801242  0.627737\n",
       "0             LogReg - RandomCV  0.717016   0.516000  0.801242  0.627737\n",
       "0             LogReg - RandomCV  0.717016   0.516000  0.801242  0.627737\n",
       "0               LogReg - GridCV  0.717016   0.516000  0.801242  0.627737\n",
       "0  Decision Tree using Defaults  0.844636   0.694118  0.855072  0.766234\n",
       "0         Decision Tree- RandCV  0.818126   0.663763  0.788820  0.720908\n",
       "0         Decision Tree- GridCV  0.808878   0.627019  0.884058  0.733677\n",
       "0                    SVM Linear  0.709001   0.506765  0.853002  0.635802\n",
       "0            SVM Linear- RandCV  0.688656   0.487028  0.855072  0.620586\n",
       "0            SVM Linear- GridCV  0.709618   0.507371  0.855072  0.636854\n",
       "0                       SVM rbf  0.822441   0.641509  0.915114  0.754266\n",
       "0               SVM rbf- RandCV  0.820592   0.638728  0.915114  0.752340\n",
       "0               SVM rbf- GridCV  0.848952   0.690705  0.892340  0.778681\n",
       "0                      poly svm  0.806412   0.619519  0.906832  0.736134\n",
       "0              SVM Poly- RandCV  0.725031   0.522103  0.904762  0.662121\n",
       "0              SVM Poly- GridCV  0.726880   0.523810  0.910973  0.665155\n",
       "0                Neural Network  0.837238   0.679214  0.859213  0.758684\n",
       "0       Neural Network RandomCV  0.837238   0.679214  0.859213  0.758684\n",
       "0         Neural Network GridCV  0.837238   0.679214  0.859213  0.758684"
      ]
     },
     "execution_count": 50,
     "metadata": {},
     "output_type": "execute_result"
    }
   ],
   "source": [
    "performance"
   ]
  },
  {
   "cell_type": "markdown",
   "id": "8a70f4dd-5ef4-4b78-969b-40a020e88d5d",
   "metadata": {},
   "source": [
    "## Analysis"
   ]
  },
  {
   "cell_type": "markdown",
   "id": "241f078c-355f-4cef-99c7-5442091e2fe5",
   "metadata": {},
   "source": [
    "- The overall accuracy across all of the models is fairly high, ranging from 0.709001 to 0.848952. The Decision Tree using Defaults model and the SVM rbf model have the second and fourth accuracies,at 0.8446 and 0.822.All the Neural Network Models have the same Accuracy scores. i.e, 0.837238 which is the third highest of all the models. Therefore from the above analysis we can say that the SVM rbf- Gridsearch CV is the best model among all the evaluated models."
   ]
  }
 ],
 "metadata": {
  "kernelspec": {
   "display_name": "Python 3 (ipykernel)",
   "language": "python",
   "name": "python3"
  },
  "language_info": {
   "codemirror_mode": {
    "name": "ipython",
    "version": 3
   },
   "file_extension": ".py",
   "mimetype": "text/x-python",
   "name": "python",
   "nbconvert_exporter": "python",
   "pygments_lexer": "ipython3",
   "version": "3.9.12"
  }
 },
 "nbformat": 4,
 "nbformat_minor": 5
}
