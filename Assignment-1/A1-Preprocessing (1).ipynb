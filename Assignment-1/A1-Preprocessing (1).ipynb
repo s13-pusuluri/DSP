{
 "cells": [
  {
   "cell_type": "markdown",
   "id": "57fac484-ab54-4d39-9bfc-ceaeb76c761c",
   "metadata": {},
   "source": [
    "# Assignment 1"
   ]
  },
  {
   "cell_type": "markdown",
   "id": "66503f6b-3c97-4120-8d3a-1e923d5b21aa",
   "metadata": {},
   "source": [
    "Srikar Pusuluri\n",
    "\n",
    "U95310908"
   ]
  },
  {
   "cell_type": "markdown",
   "id": "f8346c8c-69ce-4c29-a68a-d1f84a2ef200",
   "metadata": {},
   "source": [
    "## Description of the Analysis"
   ]
  },
  {
   "cell_type": "markdown",
   "id": "077d5599-20b0-48b0-9741-43fa22bcafb9",
   "metadata": {},
   "source": [
    "- The Dataset consists of 5 features and 2 classes \n",
    "- Total number of observations are 5404.\n",
    "- This dataset aims to distinguish between oral (class 1) and nasal (class 0) sounds (class 1). 3,818 samples are in class 0 and 1,586 samples are in class 1.\n",
    "- The phonemes are written as follows: sh as in she, dcl as in dark, iy as the vowel in she, aa as the vowel in dark, and ao as the initial vowel in water."
   ]
  },
  {
   "cell_type": "markdown",
   "id": "80d6f80f-fdd4-4c70-be6d-f27892f75b07",
   "metadata": {},
   "source": [
    "## Problem/Goal for your Analysis"
   ]
  },
  {
   "cell_type": "markdown",
   "id": "a16b0aec-d431-4552-a013-fb23468452f7",
   "metadata": {},
   "source": [
    "To determine whether a sound in the dataset is oral or nasal based on the phonemes."
   ]
  },
  {
   "cell_type": "markdown",
   "id": "7a977426-c60d-41ad-9324-feeb28ad437f",
   "metadata": {},
   "source": [
    "### Importing the required libraries"
   ]
  },
  {
   "cell_type": "code",
   "execution_count": 1,
   "id": "1810a103-76d8-48ad-a99f-a15a98f82f7f",
   "metadata": {},
   "outputs": [],
   "source": [
    "import warnings\n",
    "warnings.filterwarnings('ignore')"
   ]
  },
  {
   "cell_type": "code",
   "execution_count": 2,
   "id": "c5ec920c-a80a-4ca5-b886-0bdbcdee3fc8",
   "metadata": {},
   "outputs": [],
   "source": [
    "import pandas as pd\n",
    "import numpy as np\n",
    "from sklearn.metrics import confusion_matrix\n",
    "from sklearn.metrics import accuracy_score, precision_score, recall_score, f1_score\n",
    "from sklearn.metrics import classification_report\n",
    "from sklearn.linear_model import LogisticRegression\n",
    "from sklearn.svm import SVC\n",
    "from sklearn.tree import DecisionTreeClassifier\n",
    "from sklearn.model_selection import RandomizedSearchCV, GridSearchCV\n",
    "from sklearn import model_selection\n",
    "from sklearn.model_selection import train_test_split\n",
    "from matplotlib import pyplot as plt\n",
    "%matplotlib inline\n",
    "from sklearn.preprocessing import StandardScaler\n",
    "import imblearn\n",
    "from imblearn.under_sampling import RandomUnderSampler\n",
    "from collections import Counter\n",
    "from imblearn.over_sampling import RandomOverSampler\n",
    "from collections import Counter\n",
    "\n",
    "np.random.seed(1)"
   ]
  },
  {
   "cell_type": "markdown",
   "id": "cef34d02-ef5f-4b64-8ac0-eef810c9865d",
   "metadata": {},
   "source": [
    "### Load, Clean and Prepare data"
   ]
  },
  {
   "cell_type": "code",
   "execution_count": 3,
   "id": "2274a392-bfb2-4371-895a-6e9cb4819c77",
   "metadata": {},
   "outputs": [],
   "source": [
    "#loading the dataset\n",
    "df= pd.read_csv('phonemedataset.csv')"
   ]
  },
  {
   "cell_type": "code",
   "execution_count": 4,
   "id": "0971f7be-8739-4270-baf8-b79119fab803",
   "metadata": {},
   "outputs": [
    {
     "data": {
      "text/html": [
       "<div>\n",
       "<style scoped>\n",
       "    .dataframe tbody tr th:only-of-type {\n",
       "        vertical-align: middle;\n",
       "    }\n",
       "\n",
       "    .dataframe tbody tr th {\n",
       "        vertical-align: top;\n",
       "    }\n",
       "\n",
       "    .dataframe thead th {\n",
       "        text-align: right;\n",
       "    }\n",
       "</style>\n",
       "<table border=\"1\" class=\"dataframe\">\n",
       "  <thead>\n",
       "    <tr style=\"text-align: right;\">\n",
       "      <th></th>\n",
       "      <th>Aa</th>\n",
       "      <th>Ao</th>\n",
       "      <th>Dcl</th>\n",
       "      <th>Iy</th>\n",
       "      <th>Sh</th>\n",
       "      <th>Class</th>\n",
       "    </tr>\n",
       "  </thead>\n",
       "  <tbody>\n",
       "    <tr>\n",
       "      <th>0</th>\n",
       "      <td>1.240</td>\n",
       "      <td>0.875</td>\n",
       "      <td>-0.205</td>\n",
       "      <td>-0.078</td>\n",
       "      <td>0.067</td>\n",
       "      <td>0</td>\n",
       "    </tr>\n",
       "    <tr>\n",
       "      <th>1</th>\n",
       "      <td>0.268</td>\n",
       "      <td>1.352</td>\n",
       "      <td>1.035</td>\n",
       "      <td>-0.332</td>\n",
       "      <td>0.217</td>\n",
       "      <td>0</td>\n",
       "    </tr>\n",
       "    <tr>\n",
       "      <th>2</th>\n",
       "      <td>1.567</td>\n",
       "      <td>0.867</td>\n",
       "      <td>1.300</td>\n",
       "      <td>1.041</td>\n",
       "      <td>0.559</td>\n",
       "      <td>0</td>\n",
       "    </tr>\n",
       "    <tr>\n",
       "      <th>3</th>\n",
       "      <td>0.279</td>\n",
       "      <td>0.990</td>\n",
       "      <td>2.555</td>\n",
       "      <td>-0.738</td>\n",
       "      <td>0.000</td>\n",
       "      <td>0</td>\n",
       "    </tr>\n",
       "    <tr>\n",
       "      <th>4</th>\n",
       "      <td>0.307</td>\n",
       "      <td>1.272</td>\n",
       "      <td>2.656</td>\n",
       "      <td>-0.946</td>\n",
       "      <td>-0.467</td>\n",
       "      <td>0</td>\n",
       "    </tr>\n",
       "    <tr>\n",
       "      <th>5</th>\n",
       "      <td>0.960</td>\n",
       "      <td>0.712</td>\n",
       "      <td>-0.143</td>\n",
       "      <td>0.091</td>\n",
       "      <td>-0.061</td>\n",
       "      <td>0</td>\n",
       "    </tr>\n",
       "    <tr>\n",
       "      <th>6</th>\n",
       "      <td>2.941</td>\n",
       "      <td>0.657</td>\n",
       "      <td>1.493</td>\n",
       "      <td>-0.331</td>\n",
       "      <td>-0.123</td>\n",
       "      <td>0</td>\n",
       "    </tr>\n",
       "    <tr>\n",
       "      <th>7</th>\n",
       "      <td>0.401</td>\n",
       "      <td>1.159</td>\n",
       "      <td>2.064</td>\n",
       "      <td>-0.690</td>\n",
       "      <td>-0.308</td>\n",
       "      <td>0</td>\n",
       "    </tr>\n",
       "    <tr>\n",
       "      <th>8</th>\n",
       "      <td>0.229</td>\n",
       "      <td>1.748</td>\n",
       "      <td>0.634</td>\n",
       "      <td>0.259</td>\n",
       "      <td>0.000</td>\n",
       "      <td>0</td>\n",
       "    </tr>\n",
       "    <tr>\n",
       "      <th>9</th>\n",
       "      <td>0.303</td>\n",
       "      <td>0.609</td>\n",
       "      <td>0.474</td>\n",
       "      <td>1.427</td>\n",
       "      <td>-0.811</td>\n",
       "      <td>1</td>\n",
       "    </tr>\n",
       "  </tbody>\n",
       "</table>\n",
       "</div>"
      ],
      "text/plain": [
       "      Aa     Ao    Dcl     Iy     Sh  Class\n",
       "0  1.240  0.875 -0.205 -0.078  0.067      0\n",
       "1  0.268  1.352  1.035 -0.332  0.217      0\n",
       "2  1.567  0.867  1.300  1.041  0.559      0\n",
       "3  0.279  0.990  2.555 -0.738  0.000      0\n",
       "4  0.307  1.272  2.656 -0.946 -0.467      0\n",
       "5  0.960  0.712 -0.143  0.091 -0.061      0\n",
       "6  2.941  0.657  1.493 -0.331 -0.123      0\n",
       "7  0.401  1.159  2.064 -0.690 -0.308      0\n",
       "8  0.229  1.748  0.634  0.259  0.000      0\n",
       "9  0.303  0.609  0.474  1.427 -0.811      1"
      ]
     },
     "execution_count": 4,
     "metadata": {},
     "output_type": "execute_result"
    }
   ],
   "source": [
    "df.head(10)"
   ]
  },
  {
   "cell_type": "markdown",
   "id": "62f11c59-bc39-483e-8613-fc5090354fb0",
   "metadata": {},
   "source": [
    "> For better understanding of the data. Here are names of the attribute.\n",
    "\n",
    "- Aa as the vowel in dark\n",
    "- Ao as the initial vowel in water\n",
    "- Dcl as in dark\n",
    "- Iy as the vowel in she\n",
    "- Sh as in she\n",
    "- Class 0 - Nasal Sound\n",
    "- Class 1 - Oral Sound"
   ]
  },
  {
   "cell_type": "markdown",
   "id": "48daedf1-f87a-4f1e-aacb-184fd8c13763",
   "metadata": {},
   "source": [
    "### Data Exploration"
   ]
  },
  {
   "cell_type": "code",
   "execution_count": 5,
   "id": "e85ffcbc-c57f-4b5e-9e5f-b4a3b5052b0d",
   "metadata": {},
   "outputs": [
    {
     "name": "stdout",
     "output_type": "stream",
     "text": [
      "Index(['Aa', ' Ao', ' Dcl', ' Iy', ' Sh', 'Class'], dtype='object')\n",
      "                Aa           Ao          Dcl           Iy           Sh  \\\n",
      "count  5404.000000  5404.000000  5404.000000  5404.000000  5404.000000   \n",
      "mean      0.818957     1.258802     0.764732     0.398743     0.078619   \n",
      "std       0.858733     0.851057     0.925436     0.796531     0.575624   \n",
      "min      -1.700000    -1.327000    -1.823000    -1.581000    -1.284000   \n",
      "25%       0.243750     0.596000    -0.115000    -0.205000    -0.232250   \n",
      "50%       0.492500     1.075500     0.729000     0.285500    -0.044000   \n",
      "75%       1.089250     1.866250     1.484000     0.937000     0.196250   \n",
      "max       4.107000     4.378000     3.199000     2.826000     2.719000   \n",
      "\n",
      "             Class  \n",
      "count  5404.000000  \n",
      "mean      0.293486  \n",
      "std       0.455401  \n",
      "min       0.000000  \n",
      "25%       0.000000  \n",
      "50%       0.000000  \n",
      "75%       1.000000  \n",
      "max       1.000000  \n",
      "<class 'pandas.core.frame.DataFrame'>\n",
      "RangeIndex: 5404 entries, 0 to 5403\n",
      "Data columns (total 6 columns):\n",
      " #   Column  Non-Null Count  Dtype  \n",
      "---  ------  --------------  -----  \n",
      " 0   Aa      5404 non-null   float64\n",
      " 1    Ao     5404 non-null   float64\n",
      " 2    Dcl    5404 non-null   float64\n",
      " 3    Iy     5404 non-null   float64\n",
      " 4    Sh     5404 non-null   float64\n",
      " 5   Class   5404 non-null   int64  \n",
      "dtypes: float64(5), int64(1)\n",
      "memory usage: 253.4 KB\n",
      "None\n"
     ]
    }
   ],
   "source": [
    "# Explore the dataset\n",
    "print(df.columns)\n",
    "print(df.describe())\n",
    "print(df.info())"
   ]
  },
  {
   "cell_type": "code",
   "execution_count": 6,
   "id": "df6529cf-224b-4f20-9348-1c6f9e3c5c5a",
   "metadata": {},
   "outputs": [
    {
     "data": {
      "text/html": [
       "<div>\n",
       "<style scoped>\n",
       "    .dataframe tbody tr th:only-of-type {\n",
       "        vertical-align: middle;\n",
       "    }\n",
       "\n",
       "    .dataframe tbody tr th {\n",
       "        vertical-align: top;\n",
       "    }\n",
       "\n",
       "    .dataframe thead th {\n",
       "        text-align: right;\n",
       "    }\n",
       "</style>\n",
       "<table border=\"1\" class=\"dataframe\">\n",
       "  <thead>\n",
       "    <tr style=\"text-align: right;\">\n",
       "      <th></th>\n",
       "      <th>count</th>\n",
       "      <th>mean</th>\n",
       "      <th>std</th>\n",
       "      <th>min</th>\n",
       "      <th>25%</th>\n",
       "      <th>50%</th>\n",
       "      <th>75%</th>\n",
       "      <th>max</th>\n",
       "    </tr>\n",
       "  </thead>\n",
       "  <tbody>\n",
       "    <tr>\n",
       "      <th>Aa</th>\n",
       "      <td>5404.0</td>\n",
       "      <td>0.818957</td>\n",
       "      <td>0.858733</td>\n",
       "      <td>-1.700</td>\n",
       "      <td>0.24375</td>\n",
       "      <td>0.4925</td>\n",
       "      <td>1.08925</td>\n",
       "      <td>4.107</td>\n",
       "    </tr>\n",
       "    <tr>\n",
       "      <th>Ao</th>\n",
       "      <td>5404.0</td>\n",
       "      <td>1.258802</td>\n",
       "      <td>0.851057</td>\n",
       "      <td>-1.327</td>\n",
       "      <td>0.59600</td>\n",
       "      <td>1.0755</td>\n",
       "      <td>1.86625</td>\n",
       "      <td>4.378</td>\n",
       "    </tr>\n",
       "    <tr>\n",
       "      <th>Dcl</th>\n",
       "      <td>5404.0</td>\n",
       "      <td>0.764732</td>\n",
       "      <td>0.925436</td>\n",
       "      <td>-1.823</td>\n",
       "      <td>-0.11500</td>\n",
       "      <td>0.7290</td>\n",
       "      <td>1.48400</td>\n",
       "      <td>3.199</td>\n",
       "    </tr>\n",
       "    <tr>\n",
       "      <th>Iy</th>\n",
       "      <td>5404.0</td>\n",
       "      <td>0.398743</td>\n",
       "      <td>0.796531</td>\n",
       "      <td>-1.581</td>\n",
       "      <td>-0.20500</td>\n",
       "      <td>0.2855</td>\n",
       "      <td>0.93700</td>\n",
       "      <td>2.826</td>\n",
       "    </tr>\n",
       "    <tr>\n",
       "      <th>Sh</th>\n",
       "      <td>5404.0</td>\n",
       "      <td>0.078619</td>\n",
       "      <td>0.575624</td>\n",
       "      <td>-1.284</td>\n",
       "      <td>-0.23225</td>\n",
       "      <td>-0.0440</td>\n",
       "      <td>0.19625</td>\n",
       "      <td>2.719</td>\n",
       "    </tr>\n",
       "    <tr>\n",
       "      <th>Class</th>\n",
       "      <td>5404.0</td>\n",
       "      <td>0.293486</td>\n",
       "      <td>0.455401</td>\n",
       "      <td>0.000</td>\n",
       "      <td>0.00000</td>\n",
       "      <td>0.0000</td>\n",
       "      <td>1.00000</td>\n",
       "      <td>1.000</td>\n",
       "    </tr>\n",
       "  </tbody>\n",
       "</table>\n",
       "</div>"
      ],
      "text/plain": [
       "        count      mean       std    min      25%     50%      75%    max\n",
       "Aa     5404.0  0.818957  0.858733 -1.700  0.24375  0.4925  1.08925  4.107\n",
       " Ao    5404.0  1.258802  0.851057 -1.327  0.59600  1.0755  1.86625  4.378\n",
       " Dcl   5404.0  0.764732  0.925436 -1.823 -0.11500  0.7290  1.48400  3.199\n",
       " Iy    5404.0  0.398743  0.796531 -1.581 -0.20500  0.2855  0.93700  2.826\n",
       " Sh    5404.0  0.078619  0.575624 -1.284 -0.23225 -0.0440  0.19625  2.719\n",
       "Class  5404.0  0.293486  0.455401  0.000  0.00000  0.0000  1.00000  1.000"
      ]
     },
     "execution_count": 6,
     "metadata": {},
     "output_type": "execute_result"
    }
   ],
   "source": [
    "# Just Tranforming the Matrix, So that we can observe all the continuous columns(rows)\n",
    "df.describe().T"
   ]
  },
  {
   "cell_type": "markdown",
   "id": "2b4c583f-acb9-46f7-80ea-b5d96cfb8cdb",
   "metadata": {},
   "source": [
    "### Performing Data Cleaning"
   ]
  },
  {
   "cell_type": "markdown",
   "id": "a0643f44-d982-4dda-99f2-e7c688c631ed",
   "metadata": {},
   "source": [
    ">  Here in our dataset 'class' is the target where '0' indicates Nasal Sound and '1' indicates Oral Sound\n"
   ]
  },
  {
   "cell_type": "code",
   "execution_count": 7,
   "id": "daa9f4ec-6bab-4114-bc69-8fb07d5b7044",
   "metadata": {},
   "outputs": [
    {
     "data": {
      "text/plain": [
       "0"
      ]
     },
     "execution_count": 7,
     "metadata": {},
     "output_type": "execute_result"
    }
   ],
   "source": [
    "df.isnull().sum().sum()"
   ]
  },
  {
   "cell_type": "code",
   "execution_count": 8,
   "id": "e82ab033-005f-48b8-892d-0f18cf11877e",
   "metadata": {},
   "outputs": [
    {
     "data": {
      "text/html": [
       "<div>\n",
       "<style scoped>\n",
       "    .dataframe tbody tr th:only-of-type {\n",
       "        vertical-align: middle;\n",
       "    }\n",
       "\n",
       "    .dataframe tbody tr th {\n",
       "        vertical-align: top;\n",
       "    }\n",
       "\n",
       "    .dataframe thead th {\n",
       "        text-align: right;\n",
       "    }\n",
       "</style>\n",
       "<table border=\"1\" class=\"dataframe\">\n",
       "  <thead>\n",
       "    <tr style=\"text-align: right;\">\n",
       "      <th></th>\n",
       "      <th>aa</th>\n",
       "      <th>ao</th>\n",
       "      <th>dcl</th>\n",
       "      <th>iy</th>\n",
       "      <th>sh</th>\n",
       "      <th>class</th>\n",
       "    </tr>\n",
       "  </thead>\n",
       "  <tbody>\n",
       "    <tr>\n",
       "      <th>0</th>\n",
       "      <td>1.240</td>\n",
       "      <td>0.875</td>\n",
       "      <td>-0.205</td>\n",
       "      <td>-0.078</td>\n",
       "      <td>0.067</td>\n",
       "      <td>0</td>\n",
       "    </tr>\n",
       "    <tr>\n",
       "      <th>1</th>\n",
       "      <td>0.268</td>\n",
       "      <td>1.352</td>\n",
       "      <td>1.035</td>\n",
       "      <td>-0.332</td>\n",
       "      <td>0.217</td>\n",
       "      <td>0</td>\n",
       "    </tr>\n",
       "    <tr>\n",
       "      <th>2</th>\n",
       "      <td>1.567</td>\n",
       "      <td>0.867</td>\n",
       "      <td>1.300</td>\n",
       "      <td>1.041</td>\n",
       "      <td>0.559</td>\n",
       "      <td>0</td>\n",
       "    </tr>\n",
       "    <tr>\n",
       "      <th>3</th>\n",
       "      <td>0.279</td>\n",
       "      <td>0.990</td>\n",
       "      <td>2.555</td>\n",
       "      <td>-0.738</td>\n",
       "      <td>0.000</td>\n",
       "      <td>0</td>\n",
       "    </tr>\n",
       "    <tr>\n",
       "      <th>4</th>\n",
       "      <td>0.307</td>\n",
       "      <td>1.272</td>\n",
       "      <td>2.656</td>\n",
       "      <td>-0.946</td>\n",
       "      <td>-0.467</td>\n",
       "      <td>0</td>\n",
       "    </tr>\n",
       "  </tbody>\n",
       "</table>\n",
       "</div>"
      ],
      "text/plain": [
       "      aa     ao    dcl     iy     sh  class\n",
       "0  1.240  0.875 -0.205 -0.078  0.067      0\n",
       "1  0.268  1.352  1.035 -0.332  0.217      0\n",
       "2  1.567  0.867  1.300  1.041  0.559      0\n",
       "3  0.279  0.990  2.555 -0.738  0.000      0\n",
       "4  0.307  1.272  2.656 -0.946 -0.467      0"
      ]
     },
     "execution_count": 8,
     "metadata": {},
     "output_type": "execute_result"
    }
   ],
   "source": [
    "df.columns = df.columns.str.lower()\n",
    "df.head(5)"
   ]
  },
  {
   "cell_type": "code",
   "execution_count": 9,
   "id": "0eddc482-43ea-4e2e-a737-b5148608838e",
   "metadata": {},
   "outputs": [
    {
     "data": {
      "text/plain": [
       "array([0, 1], dtype=int64)"
      ]
     },
     "execution_count": 9,
     "metadata": {},
     "output_type": "execute_result"
    }
   ],
   "source": [
    "df['class'].unique()"
   ]
  },
  {
   "cell_type": "code",
   "execution_count": 10,
   "id": "b13fae66-1320-413b-a581-1724e524584a",
   "metadata": {},
   "outputs": [
    {
     "data": {
      "text/plain": [
       "class\n",
       "0        3818\n",
       "1        1586\n",
       "dtype: int64"
      ]
     },
     "execution_count": 10,
     "metadata": {},
     "output_type": "execute_result"
    }
   ],
   "source": [
    "df[['class']].value_counts()"
   ]
  },
  {
   "cell_type": "markdown",
   "id": "7eade352-f4c3-408f-83ca-7ec7cf6c82bb",
   "metadata": {},
   "source": [
    "- Here we can see that there is an imbalance in the output class \n",
    "\n",
    "- 0 - 3818 instances\n",
    "- 1 - 1586 instances"
   ]
  },
  {
   "cell_type": "markdown",
   "id": "0539a899-5a2e-4547-b30d-c98cc3e93ba0",
   "metadata": {},
   "source": [
    "## Splitting the data and Standarizing the data"
   ]
  },
  {
   "cell_type": "markdown",
   "id": "0c80d868-7d5e-4d2d-b6b5-d59ffe83f344",
   "metadata": {},
   "source": [
    "- Here we are splitting the droping the output of the data, so that we can create a separate dataframe for the output.\n",
    "- Splitting the data into 70/30\n",
    "- Fitting the scalar to the train data \n",
    "- Transforming the train and test data\n"
   ]
  },
  {
   "cell_type": "code",
   "execution_count": 11,
   "id": "c7ae264a-9963-41bb-b540-5ec19c4581ed",
   "metadata": {},
   "outputs": [],
   "source": [
    "from sklearn.preprocessing import StandardScaler\n",
    "#splitting the data into X,y \n",
    "X = df.drop('class', axis=1)\n",
    "y = df['class']\n",
    "\n",
    "# Spliting the data into training and testing sets\n",
    "X_train, X_test, y_train, y_test = train_test_split(X,y,test_size = 0.3)\n",
    "\n",
    "# Initialize the scaler\n",
    "scler = StandardScaler()\n",
    "\n",
    "# Fitting the scaler to the training set\n",
    "scler.fit(X_train)\n",
    "\n",
    "# Transform the training and testing sets\n",
    "X_train = scler.transform(X_train)\n",
    "X_test = scler.transform(X_test)"
   ]
  },
  {
   "cell_type": "markdown",
   "id": "71f114c3-9fe4-48c1-ad4f-f755776a3faa",
   "metadata": {},
   "source": [
    "- After scaling the training data.\n",
    "- Applying undersampling technique to the scaled training data."
   ]
  },
  {
   "cell_type": "markdown",
   "id": "d283bc24-20dc-49ff-8d99-3689a8dbf931",
   "metadata": {},
   "source": [
    "### Data Imbalancing"
   ]
  },
  {
   "cell_type": "code",
   "execution_count": 12,
   "id": "66c96397-b148-439b-a930-5db4ebe8f0b1",
   "metadata": {},
   "outputs": [
    {
     "name": "stdout",
     "output_type": "stream",
     "text": [
      "Counter({0: 1103, 1: 1103})\n"
     ]
    }
   ],
   "source": [
    "undrsample = RandomUnderSampler(sampling_strategy='majority')\n",
    "\n",
    "X_train, y_train = undrsample.fit_resample(X_train, y_train)\n",
    "\n",
    "print(Counter(y_train))"
   ]
  },
  {
   "cell_type": "markdown",
   "id": "56636c60-4eb0-45ac-b276-653d4f8cdef0",
   "metadata": {},
   "source": [
    "- After performing undersampling, now the output class is balanced.\n",
    "- 0 - 1103\n",
    "- 1 - 1103"
   ]
  },
  {
   "cell_type": "markdown",
   "id": "32d92f64-1c9d-4113-85a1-06871905216e",
   "metadata": {},
   "source": [
    "Converting numpy array into the dataframe"
   ]
  },
  {
   "cell_type": "code",
   "execution_count": 13,
   "id": "fa45bde2-c7d0-41e1-a5b0-fc72e3d78f26",
   "metadata": {},
   "outputs": [],
   "source": [
    "X_train=pd.DataFrame(X_train)\n",
    "y_train=pd.DataFrame(y_train)\n",
    "X_test=pd.DataFrame(X_test)\n",
    "y_test=pd.DataFrame(y_test)"
   ]
  },
  {
   "cell_type": "markdown",
   "id": "e8e779b4-276f-469b-8d03-07406e493274",
   "metadata": {},
   "source": [
    "Saving the dataframe to csv"
   ]
  },
  {
   "cell_type": "code",
   "execution_count": 14,
   "id": "10e36aa7-1329-4067-b722-a42783e702ed",
   "metadata": {},
   "outputs": [],
   "source": [
    "X_train.to_csv('phoneme_Xtrain.csv', index=False)\n",
    "X_test.to_csv('phoneme_Xtest.csv', index=False)\n",
    "y_train.to_csv('phoneme_ytrain.csv', index=False)\n",
    "y_test.to_csv('phoneme_ytest.csv', index=False)"
   ]
  },
  {
   "cell_type": "markdown",
   "id": "ee58b04b-d4aa-48f2-9b38-7ca6268b9b11",
   "metadata": {},
   "source": [
    "Saving the files into training and test. Now we will load these csv files into the Modelfitting notebook. "
   ]
  }
 ],
 "metadata": {
  "kernelspec": {
   "display_name": "Python 3 (ipykernel)",
   "language": "python",
   "name": "python3"
  },
  "language_info": {
   "codemirror_mode": {
    "name": "ipython",
    "version": 3
   },
   "file_extension": ".py",
   "mimetype": "text/x-python",
   "name": "python",
   "nbconvert_exporter": "python",
   "pygments_lexer": "ipython3",
   "version": "3.9.12"
  }
 },
 "nbformat": 4,
 "nbformat_minor": 5
}
