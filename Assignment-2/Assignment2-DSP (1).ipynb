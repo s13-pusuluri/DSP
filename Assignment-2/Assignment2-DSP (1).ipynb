{
 "cells": [
  {
   "cell_type": "markdown",
   "id": "16efa832-d211-4d23-819a-37d82c16f06e",
   "metadata": {},
   "source": [
    "### Assignment 2"
   ]
  },
  {
   "cell_type": "markdown",
   "id": "c1267de6-53b2-4912-91c8-5d9ed5221eda",
   "metadata": {},
   "source": [
    "#### U95310908 Srikar Pusuluri"
   ]
  },
  {
   "cell_type": "code",
   "execution_count": 1,
   "id": "f3f268f7-71fc-4234-8add-5dc4331e09ba",
   "metadata": {},
   "outputs": [],
   "source": [
    "#importing libraries\n",
    "\n",
    "import pandas as pd\n",
    "import numpy as np\n",
    "from sklearn.metrics import confusion_matrix\n",
    "from sklearn.metrics import accuracy_score, precision_score, recall_score, f1_score\n",
    "from sklearn.metrics import classification_report\n",
    "from sklearn.linear_model import LogisticRegression\n",
    "from sklearn.svm import SVC\n",
    "from sklearn.tree import DecisionTreeClassifier\n",
    "from sklearn.model_selection import RandomizedSearchCV, GridSearchCV\n",
    "from sklearn import model_selection\n",
    "from sklearn.model_selection import train_test_split\n",
    "from matplotlib import pyplot as plt\n",
    "%matplotlib inline\n",
    "\n",
    "np.random.seed(1)"
   ]
  },
  {
   "cell_type": "code",
   "execution_count": 2,
   "id": "6e5b57d7-7911-4b14-8b04-45acc687590e",
   "metadata": {},
   "outputs": [],
   "source": [
    "import warnings \n",
    "warnings.filterwarnings(\"ignore\")"
   ]
  },
  {
   "cell_type": "code",
   "execution_count": 3,
   "id": "f83f8307-f90d-4dae-89d0-db822c536c87",
   "metadata": {},
   "outputs": [],
   "source": [
    "X_train = pd.read_csv('phoneme_Xtrain.csv')\n",
    "y_train = pd.read_csv('phoneme_ytrain.csv')\n",
    "X_test = pd.read_csv('phoneme_Xtest.csv')\n",
    "y_test = pd.read_csv('phoneme_ytest.csv')"
   ]
  },
  {
   "cell_type": "code",
   "execution_count": 4,
   "id": "dd3eec70-0156-44f5-bc60-30cb077b9a8d",
   "metadata": {},
   "outputs": [
    {
     "data": {
      "text/html": [
       "<div>\n",
       "<style scoped>\n",
       "    .dataframe tbody tr th:only-of-type {\n",
       "        vertical-align: middle;\n",
       "    }\n",
       "\n",
       "    .dataframe tbody tr th {\n",
       "        vertical-align: top;\n",
       "    }\n",
       "\n",
       "    .dataframe thead th {\n",
       "        text-align: right;\n",
       "    }\n",
       "</style>\n",
       "<table border=\"1\" class=\"dataframe\">\n",
       "  <thead>\n",
       "    <tr style=\"text-align: right;\">\n",
       "      <th></th>\n",
       "      <th>0</th>\n",
       "      <th>1</th>\n",
       "      <th>2</th>\n",
       "      <th>3</th>\n",
       "      <th>4</th>\n",
       "    </tr>\n",
       "  </thead>\n",
       "  <tbody>\n",
       "    <tr>\n",
       "      <th>0</th>\n",
       "      <td>-0.095847</td>\n",
       "      <td>2.016646</td>\n",
       "      <td>0.215286</td>\n",
       "      <td>-0.935430</td>\n",
       "      <td>0.245228</td>\n",
       "    </tr>\n",
       "    <tr>\n",
       "      <th>1</th>\n",
       "      <td>-0.604492</td>\n",
       "      <td>-0.299550</td>\n",
       "      <td>1.793911</td>\n",
       "      <td>-1.370485</td>\n",
       "      <td>0.546791</td>\n",
       "    </tr>\n",
       "    <tr>\n",
       "      <th>2</th>\n",
       "      <td>1.262095</td>\n",
       "      <td>-0.895578</td>\n",
       "      <td>-0.635078</td>\n",
       "      <td>-0.302393</td>\n",
       "      <td>-0.389642</td>\n",
       "    </tr>\n",
       "    <tr>\n",
       "      <th>3</th>\n",
       "      <td>0.474629</td>\n",
       "      <td>0.011931</td>\n",
       "      <td>1.760115</td>\n",
       "      <td>-1.129628</td>\n",
       "      <td>-0.460183</td>\n",
       "    </tr>\n",
       "    <tr>\n",
       "      <th>4</th>\n",
       "      <td>-0.179844</td>\n",
       "      <td>1.996739</td>\n",
       "      <td>-1.317550</td>\n",
       "      <td>-0.169985</td>\n",
       "      <td>-0.343790</td>\n",
       "    </tr>\n",
       "    <tr>\n",
       "      <th>5</th>\n",
       "      <td>0.586624</td>\n",
       "      <td>-0.777309</td>\n",
       "      <td>-0.669965</td>\n",
       "      <td>-0.309959</td>\n",
       "      <td>-0.409040</td>\n",
       "    </tr>\n",
       "    <tr>\n",
       "      <th>6</th>\n",
       "      <td>0.371966</td>\n",
       "      <td>1.049417</td>\n",
       "      <td>-1.257589</td>\n",
       "      <td>-0.163679</td>\n",
       "      <td>-0.454892</td>\n",
       "    </tr>\n",
       "    <tr>\n",
       "      <th>7</th>\n",
       "      <td>0.311302</td>\n",
       "      <td>-0.258565</td>\n",
       "      <td>-0.563124</td>\n",
       "      <td>-0.238080</td>\n",
       "      <td>-0.278539</td>\n",
       "    </tr>\n",
       "    <tr>\n",
       "      <th>8</th>\n",
       "      <td>-0.714154</td>\n",
       "      <td>-0.547797</td>\n",
       "      <td>0.537988</td>\n",
       "      <td>2.220928</td>\n",
       "      <td>-1.252006</td>\n",
       "    </tr>\n",
       "    <tr>\n",
       "      <th>9</th>\n",
       "      <td>-0.214842</td>\n",
       "      <td>2.117350</td>\n",
       "      <td>-1.556306</td>\n",
       "      <td>0.123835</td>\n",
       "      <td>-0.456656</td>\n",
       "    </tr>\n",
       "  </tbody>\n",
       "</table>\n",
       "</div>"
      ],
      "text/plain": [
       "          0         1         2         3         4\n",
       "0 -0.095847  2.016646  0.215286 -0.935430  0.245228\n",
       "1 -0.604492 -0.299550  1.793911 -1.370485  0.546791\n",
       "2  1.262095 -0.895578 -0.635078 -0.302393 -0.389642\n",
       "3  0.474629  0.011931  1.760115 -1.129628 -0.460183\n",
       "4 -0.179844  1.996739 -1.317550 -0.169985 -0.343790\n",
       "5  0.586624 -0.777309 -0.669965 -0.309959 -0.409040\n",
       "6  0.371966  1.049417 -1.257589 -0.163679 -0.454892\n",
       "7  0.311302 -0.258565 -0.563124 -0.238080 -0.278539\n",
       "8 -0.714154 -0.547797  0.537988  2.220928 -1.252006\n",
       "9 -0.214842  2.117350 -1.556306  0.123835 -0.456656"
      ]
     },
     "execution_count": 4,
     "metadata": {},
     "output_type": "execute_result"
    }
   ],
   "source": [
    "X_train.head(10)"
   ]
  },
  {
   "cell_type": "markdown",
   "id": "60a4df2e-0491-41b0-919e-e8ab38fe829f",
   "metadata": {
    "tags": []
   },
   "source": [
    "### Modelling the Data"
   ]
  },
  {
   "cell_type": "code",
   "execution_count": 5,
   "id": "7f8033b6-de98-45fb-a9c4-3f670ce5ff61",
   "metadata": {},
   "outputs": [
    {
     "data": {
      "text/html": [
       "<div>\n",
       "<style scoped>\n",
       "    .dataframe tbody tr th:only-of-type {\n",
       "        vertical-align: middle;\n",
       "    }\n",
       "\n",
       "    .dataframe tbody tr th {\n",
       "        vertical-align: top;\n",
       "    }\n",
       "\n",
       "    .dataframe thead th {\n",
       "        text-align: right;\n",
       "    }\n",
       "</style>\n",
       "<table border=\"1\" class=\"dataframe\">\n",
       "  <thead>\n",
       "    <tr style=\"text-align: right;\">\n",
       "      <th></th>\n",
       "      <th>model</th>\n",
       "      <th>Accuracy</th>\n",
       "      <th>Precision</th>\n",
       "      <th>Recall</th>\n",
       "      <th>F1</th>\n",
       "    </tr>\n",
       "  </thead>\n",
       "  <tbody>\n",
       "  </tbody>\n",
       "</table>\n",
       "</div>"
      ],
      "text/plain": [
       "Empty DataFrame\n",
       "Columns: [model, Accuracy, Precision, Recall, F1]\n",
       "Index: []"
      ]
     },
     "execution_count": 5,
     "metadata": {},
     "output_type": "execute_result"
    }
   ],
   "source": [
    "performance = pd.DataFrame({\"model\": [], \"Accuracy\": [], \"Precision\": [], \"Recall\": [], \"F1\": []})\n",
    "performance\n"
   ]
  },
  {
   "cell_type": "markdown",
   "id": "e84f85fb-02b2-480c-974a-18a840ffeffe",
   "metadata": {},
   "source": [
    "- Our primary goal is to identify the correct sound i.e, Nasal or Oral., with a high degree of accuracy, then accuracy is the best scoring metric. Therefore we are considering accuracy as the scoring metric."
   ]
  },
  {
   "cell_type": "markdown",
   "id": "da763804-a14a-4d1c-953b-89c0a5f26be0",
   "metadata": {
    "tags": []
   },
   "source": [
    "## Fitting a Logistic Regression Model"
   ]
  },
  {
   "cell_type": "code",
   "execution_count": 6,
   "id": "ece09bec-6984-42ed-af23-53f44b389ec9",
   "metadata": {},
   "outputs": [],
   "source": [
    "log_reg_model = LogisticRegression()\n",
    "_ = log_reg_model.fit(X_train, np.ravel(y_train))"
   ]
  },
  {
   "cell_type": "code",
   "execution_count": 7,
   "id": "45a02d69-1dc8-43f4-889c-1479a9aba6eb",
   "metadata": {},
   "outputs": [],
   "source": [
    "model_preds = log_reg_model.predict(X_test)\n",
    "c_matrix = confusion_matrix(y_test, model_preds)\n",
    "TP = c_matrix[1][1]\n",
    "TN = c_matrix[0][0]\n",
    "FP = c_matrix[0][1]\n",
    "FN = c_matrix[1][0]\n",
    "performance = pd.concat([performance, pd.DataFrame({'model':\"Default Logistic\", \n",
    "                                                    'Accuracy': [(TP+TN)/(TP+TN+FP+FN)], \n",
    "                                                    'Precision': [TP/(TP+FP)], \n",
    "                                                    'Recall': [TP/(TP+FN)], \n",
    "                                                    'F1': [2*TP/(2*TP+FP+FN)]\n",
    "                                                     }, index=[0])])"
   ]
  },
  {
   "cell_type": "markdown",
   "id": "6d593fa5-4fc6-427e-aff7-d92fd90ab8f0",
   "metadata": {},
   "source": [
    "### Logistic Regression using RandomSearchCV "
   ]
  },
  {
   "cell_type": "code",
   "execution_count": 8,
   "id": "ca3c9aee-a10c-4c71-a032-3939e3b3a17b",
   "metadata": {},
   "outputs": [
    {
     "name": "stdout",
     "output_type": "stream",
     "text": [
      "The best accuracy score is 0.7506746288258893\n",
      "... with parameters: {'penalty': 'l2', 'C': 100}\n"
     ]
    }
   ],
   "source": [
    "hyperparam= {'C':[0.001, 0.01, 0.1, 1, 10, 100],\n",
    "                      'penalty':['l2', 'l1']\n",
    "                     }\n",
    "\n",
    "score_measure = \"accuracy\"\n",
    "#create a logistic regression model\n",
    "logistic_model = LogisticRegression()\n",
    "\n",
    "#create a random search cv object\n",
    "random_search = RandomizedSearchCV(estimator=logistic_model,\n",
    "                                     param_distributions=hyperparam,\n",
    "                                     cv=5,scoring=score_measure,\n",
    "                                     n_iter=10,\n",
    "                                     n_jobs=-1,\n",
    "                                   )\n",
    "\n",
    "_ = random_search.fit(X_train, y_train)\n",
    "\n",
    "print(f\"The best {score_measure} score is {random_search.best_score_}\")\n",
    "print(f\"... with parameters: {random_search.best_params_}\")\n",
    "\n",
    "bestRecallTree = random_search.best_estimator_\n"
   ]
  },
  {
   "cell_type": "code",
   "execution_count": 10,
   "id": "bcb062ef-fd08-47d1-a9ba-92540ec0fdea",
   "metadata": {},
   "outputs": [],
   "source": [
    "model_predict = random_search.predict(X_test)\n",
    "c_matrix = confusion_matrix(y_test, model_predict)\n",
    "logreg_acc_rand= accuracy_score(y_test, model_predict)"
   ]
  },
  {
   "cell_type": "code",
   "execution_count": 11,
   "id": "7ca55a7b-fca9-4dc1-8225-ff5c417a003a",
   "metadata": {},
   "outputs": [],
   "source": [
    "c_matrix = confusion_matrix(y_test, random_search.predict(X_test))\n",
    "TP = c_matrix[1][1]\n",
    "TN = c_matrix[0][0]\n",
    "FP = c_matrix[0][1]\n",
    "FN = c_matrix[1][0]\n",
    "\n",
    "performance = pd.concat([performance, pd.DataFrame({'model':\"LogReg - RandomCV\", \n",
    "                                                    'Accuracy': logreg_acc_rand, \n",
    "                                                    'Precision': [TP/(TP+FP)], \n",
    "                                                    'Recall': [TP/(TP+FN)], \n",
    "                                                    'F1': [2*TP/(2*TP+FP+FN)]\n",
    "                                                     }, index=[0])])"
   ]
  },
  {
   "cell_type": "markdown",
   "id": "2f8e3256-4ea7-46c6-98a9-ee44c62bcbf3",
   "metadata": {},
   "source": [
    "### Logistic Regression using GridsearchCV"
   ]
  },
  {
   "cell_type": "code",
   "execution_count": 12,
   "id": "cabff247-0280-4adc-8fe5-97a0e28a78bd",
   "metadata": {},
   "outputs": [
    {
     "name": "stdout",
     "output_type": "stream",
     "text": [
      "The best accuracy score is 0.7506746288258893\n",
      "... with parameters: {'C': 1, 'penalty': 'l2'}\n"
     ]
    }
   ],
   "source": [
    "score_measure = \"accuracy\"\n",
    "\n",
    "Log_Reg = LogisticRegression()\n",
    "\n",
    "#Define the parameter grid\n",
    "param_grid = {\n",
    "    'penalty':['l1','l2'],\n",
    "    'C':[0.1,1,10]\n",
    "}\n",
    "\n",
    "#Create the grid search object\n",
    "grid_searchCV = GridSearchCV(estimator=Log_Reg, param_grid=param_grid, cv = 5, scoring= score_measure )\n",
    "\n",
    "\n",
    "_ = grid_searchCV.fit(X_train, y_train)\n",
    "\n",
    "print(f\"The best {score_measure} score is {grid_searchCV.best_score_}\")\n",
    "print(f\"... with parameters: {grid_searchCV.best_params_}\")\n",
    "\n",
    "bestRecallTree = grid_searchCV.best_estimator_"
   ]
  },
  {
   "cell_type": "code",
   "execution_count": 13,
   "id": "34bb487e-e47a-4830-9b0c-d926c81886cc",
   "metadata": {},
   "outputs": [],
   "source": [
    "model_pred = grid_searchCV.predict(X_test)\n",
    "c_matrix = confusion_matrix(y_test, model_pred)\n",
    "logreg_acc_grid= accuracy_score(y_test, model_pred)"
   ]
  },
  {
   "cell_type": "code",
   "execution_count": 15,
   "id": "776c12b1-8352-4669-b0c6-aed7f2894cba",
   "metadata": {},
   "outputs": [],
   "source": [
    "c_matrix = confusion_matrix(y_test, grid_searchCV.predict(X_test))\n",
    "TP = c_matrix[1][1]\n",
    "TN = c_matrix[0][0]\n",
    "FP = c_matrix[0][1]\n",
    "FN = c_matrix[1][0]\n",
    "\n",
    "performance = pd.concat([performance, pd.DataFrame({'model':\"LogReg - GridCV\", \n",
    "                                                    'Accuracy': logreg_acc_grid, \n",
    "                                                    'Precision': [TP/(TP+FP)], \n",
    "                                                    'Recall': [TP/(TP+FN)], \n",
    "                                                    'F1': [2*TP/(2*TP+FP+FN)]\n",
    "                                                     }, index=[0])])"
   ]
  },
  {
   "cell_type": "markdown",
   "id": "bd47d344-8051-495b-b29e-7fb6a49d12e1",
   "metadata": {},
   "source": [
    "### Decision Tree classification model using defaults "
   ]
  },
  {
   "cell_type": "code",
   "execution_count": 16,
   "id": "d3b79935-44f0-4b79-9bc8-d9c8b57dba88",
   "metadata": {},
   "outputs": [],
   "source": [
    "decitree = DecisionTreeClassifier().fit(X_train, np.ravel(y_train))"
   ]
  },
  {
   "cell_type": "code",
   "execution_count": 17,
   "id": "ecfd75b2-1d2c-4ba0-ba5c-86f2d1e0b011",
   "metadata": {},
   "outputs": [],
   "source": [
    "c_matrix = confusion_matrix(y_test, decitree.predict(X_test))\n",
    "TP = c_matrix[1][1]\n",
    "TN = c_matrix[0][0]\n",
    "FP = c_matrix[0][1]\n",
    "FN = c_matrix[1][0]\n",
    "performance = pd.concat([performance, pd.DataFrame({'model':\"Decision Tree using Defaults\", \n",
    "                                                    'Accuracy': [(TP+TN)/(TP+TN+FP+FN)], \n",
    "                                                    'Precision': [TP/(TP+FP)], \n",
    "                                                    'Recall': [TP/(TP+FN)], \n",
    "                                                    'F1': [2*TP/(2*TP+FP+FN)]\n",
    "                                                     }, index=[0])])"
   ]
  },
  {
   "cell_type": "markdown",
   "id": "d36304c7-e4be-46d0-8be0-0a57b4f20c53",
   "metadata": {},
   "source": [
    "#### Decision Tree using RandomsearchCV"
   ]
  },
  {
   "cell_type": "code",
   "execution_count": 18,
   "id": "2e63da48-eede-4d8d-b92b-6f055b14d967",
   "metadata": {},
   "outputs": [
    {
     "name": "stdout",
     "output_type": "stream",
     "text": [
      "Fitting 5 folds for each of 500 candidates, totalling 2500 fits\n",
      "The best accuracy score is 0.8286350437610942\n",
      "... with parameters: {'min_samples_split': 2, 'min_samples_leaf': 3, 'min_impurity_decrease': 0.0026, 'max_leaf_nodes': 102, 'max_depth': 12, 'criterion': 'entropy'}\n"
     ]
    }
   ],
   "source": [
    "score_measure = \"accuracy\"\n",
    "kfolds = 5\n",
    "\n",
    "param_grid = {\n",
    "    'min_samples_split': np.arange(1,70),  \n",
    "    'min_samples_leaf': np.arange(1,70),\n",
    "    'min_impurity_decrease': np.arange(0.0001, 0.01, 0.0005),\n",
    "    'max_leaf_nodes': np.arange(5, 200), \n",
    "    'max_depth': np.arange(1,50), \n",
    "    'criterion': ['entropy', 'gini'],\n",
    "}\n",
    "\n",
    "dtree = DecisionTreeClassifier()\n",
    "rand_search = RandomizedSearchCV(estimator = dtree, param_distributions=param_grid, cv=kfolds, n_iter=500,\n",
    "                           scoring=score_measure, verbose=1, n_jobs=-1,  # n_jobs=-1 will utilize all available CPUs \n",
    "                           return_train_score=True)\n",
    "\n",
    "_ = rand_search.fit(X_train, y_train)\n",
    "\n",
    "print(f\"The best {score_measure} score is {rand_search.best_score_}\")\n",
    "print(f\"... with parameters: {rand_search.best_params_}\")\n",
    "\n",
    "bestRecallTree = rand_search.best_estimator_"
   ]
  },
  {
   "cell_type": "code",
   "execution_count": 19,
   "id": "23b5f04d-32bf-47d0-a69f-95ac22d9fc98",
   "metadata": {},
   "outputs": [],
   "source": [
    "model = rand_search.predict(X_test)\n",
    "dtree_acc_rand= accuracy_score(y_test, model)"
   ]
  },
  {
   "cell_type": "code",
   "execution_count": 20,
   "id": "b053dd83-d7cb-44b3-967f-1968fa6793e0",
   "metadata": {},
   "outputs": [],
   "source": [
    "c_matrix = confusion_matrix(y_test, rand_search.predict(X_test))\n",
    "TP = c_matrix[1][1]\n",
    "TN = c_matrix[0][0]\n",
    "FP = c_matrix[0][1]\n",
    "FN = c_matrix[1][0]\n",
    "\n",
    "performance = pd.concat([performance, pd.DataFrame({'model':\"Decision Tree- RandCV\", \n",
    "                                                    'Accuracy': (dtree_acc_rand), \n",
    "                                                    'Precision': [TP/(TP+FP)], \n",
    "                                                    'Recall': [TP/(TP+FN)], \n",
    "                                                    'F1': [2*TP/(2*TP+FP+FN)]\n",
    "                                                     }, index=[0])])"
   ]
  },
  {
   "cell_type": "markdown",
   "id": "4477c422-d1f7-4f33-9c13-75b6cda87e3e",
   "metadata": {},
   "source": [
    "#### Decision Tree using GridsearchCV"
   ]
  },
  {
   "cell_type": "code",
   "execution_count": 21,
   "id": "0b6fed44-830d-431c-9d95-d9fd24070135",
   "metadata": {},
   "outputs": [
    {
     "name": "stdout",
     "output_type": "stream",
     "text": [
      "Fitting 5 folds for each of 9072 candidates, totalling 45360 fits\n",
      "The best accuracy score is 0.8068868573070255\n",
      "... with parameters: {'criterion': 'entropy', 'max_depth': 15, 'max_leaf_nodes': 162, 'min_impurity_decrease': 0.0048, 'min_samples_leaf': 6, 'min_samples_split': 30}\n"
     ]
    }
   ],
   "source": [
    "score_measure = \"accuracy\"\n",
    "kfolds = 5\n",
    "\n",
    "param_grid = {\n",
    "    'min_samples_split': np.arange(30,36),  \n",
    "    'min_samples_leaf': np.arange(6,12),\n",
    "    'min_impurity_decrease': np.arange(0.0048, 0.0054, 0.0001),\n",
    "    'max_leaf_nodes': np.arange(162,168), \n",
    "    'max_depth': np.arange(15,21), \n",
    "    'criterion': ['entropy'],\n",
    "}\n",
    "\n",
    "dtree = DecisionTreeClassifier()\n",
    "grid_search = GridSearchCV(estimator = dtree, param_grid=param_grid, cv=kfolds, \n",
    "                           scoring=score_measure, verbose=1, n_jobs=-1,  # n_jobs=-1 will utilize all available CPUs \n",
    "                           return_train_score=True)\n",
    "\n",
    "_ = grid_search.fit(X_train, y_train)\n",
    "\n",
    "print(f\"The best {score_measure} score is {grid_search.best_score_}\")\n",
    "print(f\"... with parameters: {grid_search.best_params_}\")\n",
    "\n",
    "bestRecallTree = grid_search.best_estimator_"
   ]
  },
  {
   "cell_type": "code",
   "execution_count": 22,
   "id": "e6db4354-9a3f-4162-a4cf-f94eae2655a1",
   "metadata": {},
   "outputs": [],
   "source": [
    "model = rand_search.predict(X_test)\n",
    "decitree_acc_grid= accuracy_score(y_test, model)"
   ]
  },
  {
   "cell_type": "code",
   "execution_count": 23,
   "id": "81296689-8362-4987-875e-9661a72adc90",
   "metadata": {},
   "outputs": [],
   "source": [
    "c_matrix = confusion_matrix(y_test, grid_search.predict(X_test))\n",
    "TP = c_matrix[1][1]\n",
    "TN = c_matrix[0][0]\n",
    "FP = c_matrix[0][1]\n",
    "FN = c_matrix[1][0]\n",
    "\n",
    "\n",
    "performance = pd.concat([performance, pd.DataFrame({'model':\"Decision Tree- GridCV\", \n",
    "                                                    'Accuracy': (decitree_acc_grid), \n",
    "                                                    'Precision': [TP/(TP+FP)], \n",
    "                                                    'Recall': [TP/(TP+FN)], \n",
    "                                                    'F1': [2*TP/(2*TP+FP+FN)]\n",
    "                                                     }, index=[0])])"
   ]
  },
  {
   "cell_type": "markdown",
   "id": "b20cb9f2-8d43-4f56-853c-38426f0e5233",
   "metadata": {},
   "source": [
    "#### SVM model using linear kernal"
   ]
  },
  {
   "cell_type": "code",
   "execution_count": 24,
   "id": "b7420db5-6e9c-4f9a-bb19-31bdd09bec63",
   "metadata": {},
   "outputs": [],
   "source": [
    "from sklearn.svm import SVC\n",
    "svm_linear_model = SVC(kernel=\"linear\")\n",
    "_ = svm_linear_model.fit(X_train, np.ravel(y_train))"
   ]
  },
  {
   "cell_type": "code",
   "execution_count": 25,
   "id": "543e4cde-458a-4881-ad98-40556f670882",
   "metadata": {},
   "outputs": [],
   "source": [
    "model_preds = svm_linear_model.predict(X_test)\n",
    "c_matrix = confusion_matrix(y_test, model_preds)\n",
    "TP = c_matrix[1][1]\n",
    "TN = c_matrix[0][0]\n",
    "FP = c_matrix[0][1]\n",
    "FN = c_matrix[1][0]\n",
    "performance = pd.concat([performance, pd.DataFrame({'model':\"SVM Linear\", \n",
    "                                                    'Accuracy': [(TP+TN)/(TP+TN+FP+FN)], \n",
    "                                                    'Precision': [TP/(TP+FP)], \n",
    "                                                    'Recall': [TP/(TP+FN)], \n",
    "                                                    'F1': [2*TP/(2*TP+FP+FN)]\n",
    "                                                     }, index=[0])])"
   ]
  },
  {
   "cell_type": "markdown",
   "id": "20e536dd-0600-47c0-9601-8a68568931c7",
   "metadata": {},
   "source": [
    "#### SVM Linear Model - RandomSearch CV"
   ]
  },
  {
   "cell_type": "code",
   "execution_count": 26,
   "id": "2fe06e03-e8e2-49fc-a7ce-1b21dbdade66",
   "metadata": {},
   "outputs": [
    {
     "name": "stdout",
     "output_type": "stream",
     "text": [
      "Fitting 5 folds for each of 12 candidates, totalling 60 fits\n",
      "The best accuracy score is 0.751584736458686\n",
      "... with parameters: {'max_iter': 1500, 'C': 1}\n"
     ]
    }
   ],
   "source": [
    "score_measure = \"accuracy\"\n",
    "# Create parameter grid\n",
    "param_grid = {'C': [0.1, 1, 10, 100],\n",
    "              'max_iter': [1000, 1500, 2000]}\n",
    "\n",
    "#create a SVM classifier\n",
    "classifier = SVC(kernel='linear')\n",
    "\n",
    "# Create the random search model\n",
    "rand_search = RandomizedSearchCV(classifier, param_grid, cv=5, n_iter=50, scoring=score_measure, n_jobs=-1, verbose=1)\n",
    "\n",
    "\n",
    "_ = rand_search.fit(X_train, y_train)\n",
    "\n",
    "print(f\"The best {score_measure} score is {rand_search.best_score_}\")\n",
    "print(f\"... with parameters: {rand_search.best_params_}\")\n",
    "\n",
    "bestRecallTree = rand_search.best_estimator_"
   ]
  },
  {
   "cell_type": "code",
   "execution_count": 27,
   "id": "ead218f3-43e2-4d09-8b60-3b965022e4e8",
   "metadata": {},
   "outputs": [],
   "source": [
    "c_matrix = confusion_matrix(y_test, rand_search.predict(X_test))\n",
    "TP = c_matrix[1][1]\n",
    "TN = c_matrix[0][0]\n",
    "FP = c_matrix[0][1]\n",
    "FN = c_matrix[1][0]\n",
    "\n",
    "performance = pd.concat([performance, pd.DataFrame({'model':\"SVM Linear- RandCV\", \n",
    "                                                    'Accuracy': [(TP+TN)/(TP+TN+FP+FN)], \n",
    "                                                    'Precision': [TP/(TP+FP)], \n",
    "                                                    'Recall': [TP/(TP+FN)], \n",
    "                                                    'F1': [2*TP/(2*TP+FP+FN)]\n",
    "                                                     }, index=[0])])"
   ]
  },
  {
   "cell_type": "markdown",
   "id": "4d9ca922-6b13-4bf7-b6b4-5aae6b2b7fc0",
   "metadata": {},
   "source": [
    "#### SVM Linear using GridSearchCV"
   ]
  },
  {
   "cell_type": "code",
   "execution_count": 28,
   "id": "0ab24b9d-e7aa-418d-8273-371fd8ef1e0b",
   "metadata": {},
   "outputs": [
    {
     "name": "stdout",
     "output_type": "stream",
     "text": [
      "The best accuracy score is 0.7479566185448537\n",
      "... with parameters: {'C': 0.1, 'gamma': 1, 'kernel': 'linear'}\n"
     ]
    }
   ],
   "source": [
    "score_measure = \"accuracy\"\n",
    "kfolds = 5\n",
    "#create a SVM classifier\n",
    "clf = SVC(kernel='linear')\n",
    "#define the parameter grid\n",
    "param_grid = {'C': [0.1, 1, 10, 100],  \n",
    "              'gamma': [1, 0.1, 0.01, 0.001], \n",
    "              'kernel': ['linear']}  \n",
    "#instantiate the GridSearchCV object\n",
    "grid_search = GridSearchCV(clf, param_grid, cv=5, scoring= score_measure)\n",
    "\n",
    "\n",
    "_ = grid_search.fit(X_train, y_train)\n",
    "\n",
    "print(f\"The best {score_measure} score is {grid_search.best_score_}\")\n",
    "print(f\"... with parameters: {grid_search.best_params_}\")\n",
    "\n",
    "bestRecallTree = grid_search.best_estimator_\n"
   ]
  },
  {
   "cell_type": "code",
   "execution_count": 29,
   "id": "bf60ca88-b305-4425-bd38-1c2e8cf13c2b",
   "metadata": {},
   "outputs": [],
   "source": [
    "c_matrix = confusion_matrix(y_test, grid_search.predict(X_test))\n",
    "TP = c_matrix[1][1]\n",
    "TN = c_matrix[0][0]\n",
    "FP = c_matrix[0][1]\n",
    "FN = c_matrix[1][0]\n",
    "\n",
    "performance = pd.concat([performance, pd.DataFrame({'model':\"SVM Linear- GridCV\", \n",
    "                                                    'Accuracy': [(TP+TN)/(TP+TN+FP+FN)], \n",
    "                                                    'Precision': [TP/(TP+FP)], \n",
    "                                                    'Recall': [TP/(TP+FN)], \n",
    "                                                    'F1': [2*TP/(2*TP+FP+FN)]\n",
    "                                                     }, index=[0])])"
   ]
  },
  {
   "cell_type": "markdown",
   "id": "25f33317-1a5c-4265-9070-f976c517948d",
   "metadata": {},
   "source": [
    "#### SVM classification model using rbf kernal"
   ]
  },
  {
   "cell_type": "code",
   "execution_count": 30,
   "id": "ffc90dc5-0987-4762-baf2-ce883b06c8ec",
   "metadata": {},
   "outputs": [],
   "source": [
    "svm_rbf_model = SVC(kernel=\"rbf\", C=10, gamma='scale')\n",
    "_ = svm_rbf_model.fit(X_train, np.ravel(y_train))"
   ]
  },
  {
   "cell_type": "code",
   "execution_count": 31,
   "id": "8fdb8b2d-e0ea-4dd8-961f-ce5b29c851f2",
   "metadata": {},
   "outputs": [],
   "source": [
    "model_preds = svm_rbf_model.predict(X_test)\n",
    "c_matrix = confusion_matrix(y_test, model_preds)\n",
    "TP = c_matrix[1][1]\n",
    "TN = c_matrix[0][0]\n",
    "FP = c_matrix[0][1]\n",
    "FN = c_matrix[1][0]\n",
    "performance = pd.concat([performance, pd.DataFrame({'model':\"SVM rbf\", \n",
    "                                                    'Accuracy': [(TP+TN)/(TP+TN+FP+FN)], \n",
    "                                                    'Precision': [TP/(TP+FP)], \n",
    "                                                    'Recall': [TP/(TP+FN)], \n",
    "                                                    'F1': [2*TP/(2*TP+FP+FN)]\n",
    "                                                     }, index=[0])])"
   ]
  },
  {
   "cell_type": "markdown",
   "id": "44419d21-b471-4317-9822-732bac74faac",
   "metadata": {},
   "source": [
    "#### SVM rbf - RandomSearchCV"
   ]
  },
  {
   "cell_type": "code",
   "execution_count": 32,
   "id": "169f0dd3-d19a-4338-818c-0c2deb5e7ffa",
   "metadata": {},
   "outputs": [
    {
     "name": "stdout",
     "output_type": "stream",
     "text": [
      "Fitting 5 folds for each of 12 candidates, totalling 60 fits\n",
      "The best accuracy score is 0.8381650095935811\n",
      "... with parameters: {'max_iter': 1500, 'C': 10}\n"
     ]
    }
   ],
   "source": [
    "score_measure = \"accuracy\"\n",
    "param_grid = {'C': [0.1, 1, 10, 100],\n",
    "              'max_iter': [1000, 1500, 2000]}\n",
    "\n",
    "#create a SVM classifier\n",
    "svm_clf = SVC(kernel='rbf')\n",
    "\n",
    "# Create the random search model\n",
    "random_search_rbf = RandomizedSearchCV(svm_clf, param_grid, cv=5, n_iter=50, scoring=score_measure, n_jobs=-1, verbose=1)\n",
    "\n",
    "\n",
    "_ = random_search_rbf.fit(X_train, y_train)\n",
    "\n",
    "print(f\"The best {score_measure} score is {random_search_rbf.best_score_}\")\n",
    "print(f\"... with parameters: {random_search_rbf.best_params_}\")\n",
    "\n",
    "bestRecallTree = random_search_rbf.best_estimator_"
   ]
  },
  {
   "cell_type": "code",
   "execution_count": 33,
   "id": "e3e7e6f2-3112-4b64-a823-f367f57328a2",
   "metadata": {},
   "outputs": [],
   "source": [
    "c_matrix = confusion_matrix(y_test, random_search_rbf.predict(X_test))\n",
    "TP = c_matrix[1][1]\n",
    "TN = c_matrix[0][0]\n",
    "FP = c_matrix[0][1]\n",
    "FN = c_matrix[1][0]\n",
    "\n",
    "performance = pd.concat([performance, pd.DataFrame({'model':\"SVM rbf- RandCV\", \n",
    "                                                    'Accuracy': [(TP+TN)/(TP+TN+FP+FN)], \n",
    "                                                    'Precision': [TP/(TP+FP)], \n",
    "                                                    'Recall': [TP/(TP+FN)], \n",
    "                                                    'F1': [2*TP/(2*TP+FP+FN)]\n",
    "                                                     }, index=[0])])"
   ]
  },
  {
   "cell_type": "markdown",
   "id": "7847884b-d9c7-4cf9-bc01-941eb79a1ebc",
   "metadata": {},
   "source": [
    "### SVM rbf - GridSearchCV"
   ]
  },
  {
   "cell_type": "code",
   "execution_count": 34,
   "id": "794a27ca-6016-41c1-a17d-5951a5042bcc",
   "metadata": {},
   "outputs": [
    {
     "name": "stdout",
     "output_type": "stream",
     "text": [
      "The best accuracy score is 0.8612819486769068\n",
      "... with parameters: {'C': 10, 'gamma': 1, 'kernel': 'rbf'}\n"
     ]
    }
   ],
   "source": [
    "score_measure = \"accuracy\"\n",
    "clf = SVC(kernel='rbf')\n",
    "\n",
    "#define the parameter grid\n",
    "param_grid = {'C': [0.1, 1, 10, 100],  \n",
    "              'gamma': [1, 0.1, 0.01, 0.001], \n",
    "              'kernel': ['rbf']} \n",
    "\n",
    "\n",
    "grid_CV = GridSearchCV(clf, param_grid, cv=5, scoring= score_measure)\n",
    "\n",
    "\n",
    "_ = grid_CV.fit(X_train, y_train)\n",
    "\n",
    "print(f\"The best {score_measure} score is {grid_CV.best_score_}\")\n",
    "print(f\"... with parameters: {grid_CV.best_params_}\")\n",
    "\n",
    "bestRecallTree = grid_CV.best_estimator_\n"
   ]
  },
  {
   "cell_type": "code",
   "execution_count": 35,
   "id": "5c789f11-864b-4177-9740-85b3dff35f76",
   "metadata": {},
   "outputs": [],
   "source": [
    "c_matrix = confusion_matrix(y_test, grid_CV.predict(X_test))\n",
    "TP = c_matrix[1][1]\n",
    "TN = c_matrix[0][0]\n",
    "FP = c_matrix[0][1]\n",
    "FN = c_matrix[1][0]\n",
    "\n",
    "performance = pd.concat([performance, pd.DataFrame({'model':\"SVM rbf- GridCV\", \n",
    "                                                    'Accuracy': [(TP+TN)/(TP+TN+FP+FN)], \n",
    "                                                    'Precision': [TP/(TP+FP)], \n",
    "                                                    'Recall': [TP/(TP+FN)], \n",
    "                                                    'F1': [2*TP/(2*TP+FP+FN)]\n",
    "                                                     }, index=[0])])"
   ]
  },
  {
   "cell_type": "markdown",
   "id": "d96a105c-8da2-46e9-9eb3-1b7a57fb0248",
   "metadata": {},
   "source": [
    "#### SVM classification model using polynomial kernal"
   ]
  },
  {
   "cell_type": "code",
   "execution_count": 36,
   "id": "9eca9939-4cd2-46bb-a70a-7adf06899a69",
   "metadata": {},
   "outputs": [],
   "source": [
    "svm_poly_model = SVC(kernel=\"poly\", degree=3, coef0=1, C=10, probability = True)\n",
    "_ = svm_poly_model.fit(X_train, np.ravel(y_train))"
   ]
  },
  {
   "cell_type": "code",
   "execution_count": 37,
   "id": "1823f16d-6e48-4f6b-9bc3-f68c7e17ea98",
   "metadata": {},
   "outputs": [],
   "source": [
    "model_preds = svm_poly_model.predict(X_test)\n",
    "c_matrix = confusion_matrix(y_test, model_preds)\n",
    "TP = c_matrix[1][1]\n",
    "TN = c_matrix[0][0]\n",
    "FP = c_matrix[0][1]\n",
    "FN = c_matrix[1][0]\n",
    "performance = pd.concat([performance, pd.DataFrame({'model':\"poly svm\", \n",
    "                                                    'Accuracy': [(TP+TN)/(TP+TN+FP+FN)], \n",
    "                                                    'Precision': [TP/(TP+FP)], \n",
    "                                                    'Recall': [TP/(TP+FN)], \n",
    "                                                    'F1': [2*TP/(2*TP+FP+FN)]\n",
    "                                                     }, index=[0])])"
   ]
  },
  {
   "cell_type": "markdown",
   "id": "18c1efee-4983-4a49-bab9-444488f76185",
   "metadata": {},
   "source": [
    "### SVM Poly - RandomSearchCV"
   ]
  },
  {
   "cell_type": "code",
   "execution_count": 38,
   "id": "ae0ec53e-a24a-4129-81f7-eee5d248bb03",
   "metadata": {},
   "outputs": [
    {
     "name": "stdout",
     "output_type": "stream",
     "text": [
      "Fitting 5 folds for each of 12 candidates, totalling 60 fits\n",
      "The best accuracy score is 0.7615497481043699\n",
      "... with parameters: {'max_iter': 2000, 'C': 1}\n"
     ]
    }
   ],
   "source": [
    "score_measure = \"accuracy\"\n",
    "param_grid = {'C': [0.1, 1, 10, 100],\n",
    "              'max_iter': [1000, 1500, 2000]}\n",
    "\n",
    "svm_clf = SVC(kernel='poly')\n",
    "\n",
    "# Create the random search model\n",
    "rand_search_polym = RandomizedSearchCV(svm_clf, param_grid, cv=5, n_iter=50, scoring=score_measure, n_jobs=-1, verbose=1)\n",
    "\n",
    "\n",
    "_ = rand_search_polym.fit(X_train, y_train)\n",
    "\n",
    "print(f\"The best {score_measure} score is {rand_search_polym.best_score_}\")\n",
    "print(f\"... with parameters: {rand_search_polym.best_params_}\")\n",
    "\n",
    "bestRecallTree = rand_search_polym.best_estimator_"
   ]
  },
  {
   "cell_type": "code",
   "execution_count": 39,
   "id": "84fb0966-cc41-43f2-ac95-5c26aaa65e8d",
   "metadata": {},
   "outputs": [],
   "source": [
    "c_matrix = confusion_matrix(y_test, rand_search_polym.predict(X_test))\n",
    "TP = c_matrix[1][1]\n",
    "TN = c_matrix[0][0]\n",
    "FP = c_matrix[0][1]\n",
    "FN = c_matrix[1][0]\n",
    "\n",
    "performance = pd.concat([performance, pd.DataFrame({'model':\"SVM Poly- RandCV\", \n",
    "                                                    'Accuracy': [(TP+TN)/(TP+TN+FP+FN)], \n",
    "                                                    'Precision': [TP/(TP+FP)], \n",
    "                                                    'Recall': [TP/(TP+FN)], \n",
    "                                                    'F1': [2*TP/(2*TP+FP+FN)]\n",
    "                                                     }, index=[0])])"
   ]
  },
  {
   "cell_type": "markdown",
   "id": "c4c8a0fa-eb25-4d39-bb7b-6a2d018c556a",
   "metadata": {},
   "source": [
    "#### SVM Poly - GridSearchCV"
   ]
  },
  {
   "cell_type": "code",
   "execution_count": 40,
   "id": "ba9c642d-106f-4054-9c60-d620594a37c4",
   "metadata": {},
   "outputs": [
    {
     "name": "stdout",
     "output_type": "stream",
     "text": [
      "The best accuracy score is 0.7620083931008301\n",
      "... with parameters: {'C': 100, 'gamma': 1, 'kernel': 'poly'}\n"
     ]
    }
   ],
   "source": [
    "score_measure = \"accuracy\"\n",
    "clf = SVC(kernel='poly')\n",
    "\n",
    "#define the parameter grid\n",
    "param_grid = {'C': [0.1, 1, 10, 100],  \n",
    "              'gamma': [1, 0.1, 0.01, 0.001], \n",
    "              'kernel': ['poly']}  \n",
    "#instantiate the GridSearchCV object\n",
    "grid_search = GridSearchCV(clf, param_grid, cv=5, scoring= score_measure)\n",
    "\n",
    "\n",
    "_ = grid_search.fit(X_train, y_train)\n",
    "\n",
    "print(f\"The best {score_measure} score is {grid_search.best_score_}\")\n",
    "print(f\"... with parameters: {grid_search.best_params_}\")\n",
    "\n",
    "bestRecallTree = grid_search.best_estimator_"
   ]
  },
  {
   "cell_type": "code",
   "execution_count": 43,
   "id": "a5244458-e32c-48fc-b67a-edd553114190",
   "metadata": {},
   "outputs": [],
   "source": [
    "model = grid_search.predict(X_test)\n",
    "grid_acc_poly= accuracy_score(y_test, model)"
   ]
  },
  {
   "cell_type": "code",
   "execution_count": 44,
   "id": "c0e39aba-c838-44e6-a4d2-872ca684c92f",
   "metadata": {},
   "outputs": [],
   "source": [
    "c_matrix = confusion_matrix(y_test, grid_search.predict(X_test))\n",
    "TP = c_matrix[1][1]\n",
    "TN = c_matrix[0][0]\n",
    "FP = c_matrix[0][1]\n",
    "FN = c_matrix[1][0]\n",
    "\n",
    "performance = pd.concat([performance, pd.DataFrame({'model':\"SVM Poly- GridCV\", \n",
    "                                                    'Accuracy': [grid_acc_poly], \n",
    "                                                    'Precision': [TP/(TP+FP)], \n",
    "                                                    'Recall': [TP/(TP+FN)], \n",
    "                                                    'F1': [2*TP/(2*TP+FP+FN)]\n",
    "                                                     }, index=[0])])"
   ]
  },
  {
   "cell_type": "markdown",
   "id": "a39dafe7-b099-41c6-8518-792bdd8bcce8",
   "metadata": {},
   "source": [
    "### Neural Network with Default Parameters"
   ]
  },
  {
   "cell_type": "code",
   "execution_count": 45,
   "id": "27444716-7f1b-4758-84dc-f74cf064a528",
   "metadata": {},
   "outputs": [],
   "source": [
    "from sklearn.neural_network import MLPClassifier"
   ]
  },
  {
   "cell_type": "code",
   "execution_count": 46,
   "id": "95867ba3-7112-4c53-af74-84d5d9cb925b",
   "metadata": {},
   "outputs": [
    {
     "name": "stdout",
     "output_type": "stream",
     "text": [
      "CPU times: total: 16.3 s\n",
      "Wall time: 2.43 s\n"
     ]
    }
   ],
   "source": [
    "%%time\n",
    "ann = MLPClassifier(hidden_layer_sizes=(60,50,40), solver='adam', max_iter=200)\n",
    "_ = ann.fit(X_train, y_train)"
   ]
  },
  {
   "cell_type": "code",
   "execution_count": 47,
   "id": "8f4970fe-c7e5-4d9f-a0d8-17abc6796714",
   "metadata": {},
   "outputs": [
    {
     "name": "stdout",
     "output_type": "stream",
     "text": [
      "CPU times: total: 0 ns\n",
      "Wall time: 6.54 ms\n"
     ]
    }
   ],
   "source": [
    "%%time\n",
    "y_pred = ann.predict(X_test)"
   ]
  },
  {
   "cell_type": "code",
   "execution_count": 48,
   "id": "f3226b2a-cac5-42b4-a6e8-2affaf044aea",
   "metadata": {},
   "outputs": [
    {
     "name": "stdout",
     "output_type": "stream",
     "text": [
      "0.8372379778051788\n"
     ]
    }
   ],
   "source": [
    "nn_acc= accuracy_score(y_test, y_pred)\n",
    "print(nn_acc)"
   ]
  },
  {
   "cell_type": "code",
   "execution_count": 49,
   "id": "07dbd03b-5913-47d4-8652-4ec1a132acaf",
   "metadata": {},
   "outputs": [],
   "source": [
    "performance = pd.concat([performance, pd.DataFrame({'model':\"Neural Network\", \n",
    "                                                    'Accuracy': nn_acc, \n",
    "                                                    'Precision': precision_score(y_test, y_pred), \n",
    "                                                    'Recall': recall_score(y_test, y_pred), \n",
    "                                                    'F1': f1_score(y_test, y_pred)\n",
    "                                                     }, index=[0])])"
   ]
  },
  {
   "cell_type": "markdown",
   "id": "a04cd00a-1695-4f99-8efe-a24af7d13f14",
   "metadata": {},
   "source": [
    "### Neural Network - RandomsearchCV"
   ]
  },
  {
   "cell_type": "code",
   "execution_count": 50,
   "id": "a82521fe-40b9-4690-aa0b-0dedd4d121da",
   "metadata": {},
   "outputs": [
    {
     "name": "stdout",
     "output_type": "stream",
     "text": [
      "Fitting 5 folds for each of 100 candidates, totalling 500 fits\n",
      "{'solver': 'adam', 'max_iter': 5000, 'learning_rate_init': 0.001, 'learning_rate': 'adaptive', 'hidden_layer_sizes': (70, 50, 40), 'alpha': 0, 'activation': 'tanh'}\n",
      "CPU times: total: 33.1 s\n",
      "Wall time: 2min 7s\n"
     ]
    }
   ],
   "source": [
    "%%time\n",
    "\n",
    "score_measure = \"accuracy\"\n",
    "kfolds = 5\n",
    "\n",
    "param_grid = {\n",
    "    'hidden_layer_sizes': [ (50,), (70,),(50,30), (40,20), (60,40, 20), (70,50,40)],\n",
    "    'activation': ['logistic', 'tanh', 'relu'],\n",
    "    'solver': ['adam', 'sgd'],\n",
    "    'alpha': [0, .2, .5, .7, 1],\n",
    "    'learning_rate': ['constant', 'invscaling', 'adaptive'],\n",
    "    'learning_rate_init': [0.001, 0.01, 0.1, 0.2, 0.5],\n",
    "    'max_iter': [5000]\n",
    "}\n",
    "\n",
    "ann = MLPClassifier()\n",
    "grid_search = RandomizedSearchCV(estimator = ann, param_distributions=param_grid, cv=kfolds, n_iter=100,\n",
    "                           scoring=score_measure, verbose=1, n_jobs=-1,  # n_jobs=-1 will utilize all available CPUs \n",
    "                           return_train_score=True)\n",
    "\n",
    "_ = grid_search.fit(X_train, y_train)\n",
    "\n",
    "bestRecallTree = grid_search.best_estimator_\n",
    "\n",
    "print(grid_search.best_params_)"
   ]
  },
  {
   "cell_type": "code",
   "execution_count": 51,
   "id": "8de259b7-54af-43f3-a9ba-6b75d1a3465f",
   "metadata": {},
   "outputs": [
    {
     "name": "stdout",
     "output_type": "stream",
     "text": [
      "              precision    recall  f1-score   support\n",
      "\n",
      "           0       0.94      0.77      0.85      1139\n",
      "           1       0.62      0.88      0.73       483\n",
      "\n",
      "    accuracy                           0.80      1622\n",
      "   macro avg       0.78      0.83      0.79      1622\n",
      "weighted avg       0.84      0.80      0.81      1622\n",
      "\n",
      "CPU times: total: 0 ns\n",
      "Wall time: 11.4 ms\n"
     ]
    }
   ],
   "source": [
    "%%time\n",
    "y_pred = bestRecallTree.predict(X_test)\n",
    "\n",
    "print(classification_report(y_test, y_pred))"
   ]
  },
  {
   "cell_type": "code",
   "execution_count": 52,
   "id": "9835624e-3267-459d-acb8-23376f399943",
   "metadata": {},
   "outputs": [
    {
     "name": "stdout",
     "output_type": "stream",
     "text": [
      "0.8033292231812577\n"
     ]
    }
   ],
   "source": [
    "nn_acc_rand= accuracy_score(y_test, y_pred)\n",
    "print(nn_acc_rand)"
   ]
  },
  {
   "cell_type": "code",
   "execution_count": 53,
   "id": "99064216-315d-4b06-a0bc-218315063b06",
   "metadata": {},
   "outputs": [],
   "source": [
    "performance = pd.concat([performance, pd.DataFrame({'model':\"Neural Network RandomCV\", \n",
    "                                                    'Accuracy': nn_acc_rand, \n",
    "                                                    'Precision': precision_score(y_test, y_pred), \n",
    "                                                    'Recall': recall_score(y_test, y_pred), \n",
    "                                                    'F1': f1_score(y_test, y_pred)\n",
    "                                                     }, index=[0])])"
   ]
  },
  {
   "cell_type": "markdown",
   "id": "0e163808-5f17-482f-a830-88483868a49d",
   "metadata": {},
   "source": [
    "### Neural Networks With GridSearchCV"
   ]
  },
  {
   "cell_type": "code",
   "execution_count": 54,
   "id": "a696738a-e9ca-4aa9-bc1f-98c3c8ec654d",
   "metadata": {},
   "outputs": [
    {
     "name": "stdout",
     "output_type": "stream",
     "text": [
      "Fitting 5 folds for each of 144 candidates, totalling 720 fits\n",
      "{'activation': 'relu', 'alpha': 0.5, 'hidden_layer_sizes': (50,), 'learning_rate': 'invscaling', 'learning_rate_init': 0.01, 'max_iter': 5000, 'solver': 'adam'}\n",
      "CPU times: total: 5.72 s\n",
      "Wall time: 57.5 s\n"
     ]
    }
   ],
   "source": [
    "%%time\n",
    "\n",
    "score_measure = \"accuracy\"\n",
    "kfolds = 5\n",
    "\n",
    "param_grid = {\n",
    "    'hidden_layer_sizes': [ (30,), (50,), (70,), (90,)],\n",
    "    'activation': ['tanh', 'relu'],\n",
    "    'solver': ['adam'],\n",
    "    'alpha': [.5, .7, 1],\n",
    "    'learning_rate': ['adaptive', 'invscaling'],\n",
    "    'learning_rate_init': [0.005, 0.01, 0.15],\n",
    "    'max_iter': [5000]\n",
    "}\n",
    "\n",
    "ann = MLPClassifier()\n",
    "grid_search = GridSearchCV(estimator = ann, param_grid=param_grid, cv=kfolds, \n",
    "                           scoring=score_measure, verbose=1, n_jobs=-1,  # n_jobs=-1 will utilize all available CPUs \n",
    "                           return_train_score=True)\n",
    "\n",
    "_ = grid_search.fit(X_train, y_train)\n",
    "\n",
    "bestRecallTree = grid_search.best_estimator_\n",
    "\n",
    "print(grid_search.best_params_)"
   ]
  },
  {
   "cell_type": "code",
   "execution_count": 55,
   "id": "651dcde3-80f1-4e28-937a-c1ea24bc558d",
   "metadata": {},
   "outputs": [
    {
     "name": "stdout",
     "output_type": "stream",
     "text": [
      "              precision    recall  f1-score   support\n",
      "\n",
      "           0       0.94      0.76      0.84      1139\n",
      "           1       0.61      0.89      0.72       483\n",
      "\n",
      "    accuracy                           0.80      1622\n",
      "   macro avg       0.78      0.82      0.78      1622\n",
      "weighted avg       0.84      0.80      0.81      1622\n",
      "\n"
     ]
    }
   ],
   "source": [
    "y_pred = bestRecallTree.predict(X_test)\n",
    "\n",
    "print(classification_report(y_test, y_pred))"
   ]
  },
  {
   "cell_type": "code",
   "execution_count": 57,
   "id": "4f49fcc1-954e-4d03-8195-02831874b286",
   "metadata": {},
   "outputs": [],
   "source": [
    "nn_grid= accuracy_score(y_test, y_pred)"
   ]
  },
  {
   "cell_type": "code",
   "execution_count": 58,
   "id": "e7285c06-117c-41e8-be5b-93ae46bb5365",
   "metadata": {},
   "outputs": [],
   "source": [
    "performance = pd.concat([performance, pd.DataFrame({'model':\"Neural Network GridCV\", \n",
    "                                                    'Accuracy': nn_grid, \n",
    "                                                    'Precision': precision_score(y_test, y_pred), \n",
    "                                                    'Recall': recall_score(y_test, y_pred), \n",
    "                                                    'F1': f1_score(y_test, y_pred)\n",
    "                                                     }, index=[0])])"
   ]
  },
  {
   "cell_type": "markdown",
   "id": "a66c8cc0-d423-4ee7-ace9-f88809d26274",
   "metadata": {},
   "source": [
    "#### Deep Neural Network using Keras"
   ]
  },
  {
   "cell_type": "code",
   "execution_count": 59,
   "id": "824c9701-8571-4df4-8b48-1215a151de7a",
   "metadata": {},
   "outputs": [],
   "source": [
    "import os\n",
    "import tensorflow as tf\n",
    "os.environ['TF_CPP_MIN_LOG_LEVEL'] = '3'"
   ]
  },
  {
   "cell_type": "code",
   "execution_count": 60,
   "id": "aeacb5fd-c7c6-4b04-a416-ebcfd794169b",
   "metadata": {},
   "outputs": [],
   "source": [
    "from __future__ import print_function\n",
    "import numpy as np\n",
    "from sklearn.neural_network import MLPClassifier\n",
    "from sklearn.model_selection import train_test_split\n",
    "from sklearn.metrics import classification_report, confusion_matrix, accuracy_score, precision_score, recall_score\n",
    "from sklearn.model_selection import GridSearchCV, RandomizedSearchCV\n",
    "import matplotlib.pyplot as plt\n",
    "\n",
    "from sklearn import datasets"
   ]
  },
  {
   "cell_type": "code",
   "execution_count": 61,
   "id": "57e7741a-eadd-47aa-ba48-45803fd80c43",
   "metadata": {},
   "outputs": [],
   "source": [
    "import tensorflow as tf\n",
    "from tensorflow import keras\n",
    "\n",
    "# fix random seed for reproducibility\n",
    "np.random.seed(1)\n",
    "tf.random.set_seed(1)"
   ]
  },
  {
   "cell_type": "code",
   "execution_count": 62,
   "id": "ad8f5e86-fa18-4f6a-9ab6-2996cd55401d",
   "metadata": {},
   "outputs": [
    {
     "name": "stdout",
     "output_type": "stream",
     "text": [
      "CPU times: total: 109 ms\n",
      "Wall time: 126 ms\n"
     ]
    }
   ],
   "source": [
    "%%time\n",
    "\n",
    "# create model stucture\n",
    "model = keras.models.Sequential()\n",
    "model.add(keras.layers.Input(5))\n",
    "model.add(keras.layers.Dense(50, activation='relu'))\n",
    "model.add(keras.layers.Dense(50, activation='relu'))\n",
    "model.add(keras.layers.Dense(50, activation='relu'))\n",
    "model.add(keras.layers.Dense(10, activation='softmax')) # final layer, 10 categories\n",
    "\n",
    "# compile\n",
    "model.compile(loss='sparse_categorical_crossentropy', optimizer='adam', metrics=['accuracy'])\n",
    "\n",
    "# if you want to overide the defaults for the optimizer....\n",
    "#adam = keras.optimizers.Adam(learning_rate=0.01)\n",
    "#model.compile(loss='sparse_categorical_crossentropy', optimizer=adam, metrics=['accuracy'])\n"
   ]
  },
  {
   "cell_type": "code",
   "execution_count": 63,
   "id": "95a989c4-4d1d-4822-8100-5dfd8fda4f9b",
   "metadata": {},
   "outputs": [
    {
     "name": "stdout",
     "output_type": "stream",
     "text": [
      "Epoch 1/20\n",
      "23/23 [==============================] - 1s 17ms/step - loss: 1.9232 - accuracy: 0.4995 - val_loss: 1.2406 - val_accuracy: 0.7306\n",
      "Epoch 2/20\n",
      "23/23 [==============================] - 0s 6ms/step - loss: 0.9663 - accuracy: 0.6455 - val_loss: 0.6039 - val_accuracy: 0.7774\n",
      "Epoch 3/20\n",
      "23/23 [==============================] - 0s 7ms/step - loss: 0.5491 - accuracy: 0.7652 - val_loss: 0.4995 - val_accuracy: 0.7836\n",
      "Epoch 4/20\n",
      "23/23 [==============================] - 0s 6ms/step - loss: 0.4936 - accuracy: 0.7724 - val_loss: 0.4944 - val_accuracy: 0.7620\n",
      "Epoch 5/20\n",
      "23/23 [==============================] - 0s 6ms/step - loss: 0.4711 - accuracy: 0.7874 - val_loss: 0.4611 - val_accuracy: 0.7855\n",
      "Epoch 6/20\n",
      "23/23 [==============================] - 0s 7ms/step - loss: 0.4585 - accuracy: 0.7951 - val_loss: 0.4719 - val_accuracy: 0.7811\n",
      "Epoch 7/20\n",
      "23/23 [==============================] - 0s 6ms/step - loss: 0.4462 - accuracy: 0.8055 - val_loss: 0.4278 - val_accuracy: 0.7996\n",
      "Epoch 8/20\n",
      "23/23 [==============================] - 0s 6ms/step - loss: 0.4369 - accuracy: 0.8146 - val_loss: 0.4440 - val_accuracy: 0.8002\n",
      "Epoch 9/20\n",
      "23/23 [==============================] - 0s 5ms/step - loss: 0.4272 - accuracy: 0.8200 - val_loss: 0.4056 - val_accuracy: 0.8070\n",
      "Epoch 10/20\n",
      "23/23 [==============================] - 0s 6ms/step - loss: 0.4221 - accuracy: 0.8169 - val_loss: 0.4245 - val_accuracy: 0.8039\n",
      "Epoch 11/20\n",
      "23/23 [==============================] - 0s 6ms/step - loss: 0.4122 - accuracy: 0.8264 - val_loss: 0.4278 - val_accuracy: 0.8015\n",
      "Epoch 12/20\n",
      "23/23 [==============================] - 0s 6ms/step - loss: 0.4139 - accuracy: 0.8191 - val_loss: 0.3927 - val_accuracy: 0.8095\n",
      "Epoch 13/20\n",
      "23/23 [==============================] - 0s 6ms/step - loss: 0.4102 - accuracy: 0.8241 - val_loss: 0.4073 - val_accuracy: 0.8015\n",
      "Epoch 14/20\n",
      "23/23 [==============================] - 0s 6ms/step - loss: 0.3990 - accuracy: 0.8291 - val_loss: 0.3899 - val_accuracy: 0.8070\n",
      "Epoch 15/20\n",
      "23/23 [==============================] - 0s 6ms/step - loss: 0.3995 - accuracy: 0.8246 - val_loss: 0.3677 - val_accuracy: 0.8169\n",
      "Epoch 16/20\n",
      "23/23 [==============================] - 0s 5ms/step - loss: 0.4033 - accuracy: 0.8205 - val_loss: 0.3627 - val_accuracy: 0.8175\n",
      "Epoch 17/20\n",
      "23/23 [==============================] - 0s 6ms/step - loss: 0.3930 - accuracy: 0.8246 - val_loss: 0.3647 - val_accuracy: 0.8163\n",
      "Epoch 18/20\n",
      "23/23 [==============================] - 0s 6ms/step - loss: 0.3844 - accuracy: 0.8277 - val_loss: 0.3920 - val_accuracy: 0.8083\n",
      "Epoch 19/20\n",
      "23/23 [==============================] - 0s 6ms/step - loss: 0.3794 - accuracy: 0.8318 - val_loss: 0.3635 - val_accuracy: 0.8163\n",
      "Epoch 20/20\n",
      "23/23 [==============================] - 0s 5ms/step - loss: 0.3772 - accuracy: 0.8323 - val_loss: 0.3923 - val_accuracy: 0.8027\n",
      "CPU times: total: 35.5 s\n",
      "Wall time: 4.06 s\n"
     ]
    }
   ],
   "source": [
    "%%time\n",
    "\n",
    "# fit the model\n",
    "history = model.fit(X_train, y_train, \n",
    "                    validation_data=(X_test, y_test), \n",
    "                    epochs=20, batch_size=100)"
   ]
  },
  {
   "cell_type": "code",
   "execution_count": 64,
   "id": "ecf0f4e3-2675-4ce8-a527-a478a44a11e2",
   "metadata": {},
   "outputs": [
    {
     "data": {
      "text/plain": [
       "[0.39232808351516724, 0.8027126789093018]"
      ]
     },
     "execution_count": 64,
     "metadata": {},
     "output_type": "execute_result"
    }
   ],
   "source": [
    "# evaluate the model\n",
    "\n",
    "scores = model.evaluate(X_test, y_test, verbose=0)\n",
    "scores\n",
    "# In results, first is loss, second is accuracy"
   ]
  },
  {
   "cell_type": "code",
   "execution_count": 65,
   "id": "cf7aeefa-8f4d-466c-94b4-5367eebdf2fb",
   "metadata": {},
   "outputs": [
    {
     "name": "stdout",
     "output_type": "stream",
     "text": [
      "0.7977805178791615\n"
     ]
    }
   ],
   "source": [
    "grid= accuracy_score(y_test, y_pred)\n",
    "print(grid)"
   ]
  },
  {
   "cell_type": "code",
   "execution_count": 66,
   "id": "8bb336f2-a8d0-4a86-a6e7-8f78e57a14b1",
   "metadata": {},
   "outputs": [
    {
     "name": "stdout",
     "output_type": "stream",
     "text": [
      "loss: 0.39\n",
      "accuracy: 80.27%\n"
     ]
    }
   ],
   "source": [
    "# let's format this into a better output...\n",
    "\n",
    "print(\"%s: %.2f\" % (model.metrics_names[0], scores[0]))\n",
    "print(\"%s: %.2f%%\" % (model.metrics_names[1], scores[1]*100))\n",
    "\n",
    "\n",
    "performance = pd.concat([performance, pd.DataFrame({'model':\"Deep Network using keras\", \n",
    "                                                    'Accuracy': scores[1]}, index=[0])])"
   ]
  },
  {
   "cell_type": "markdown",
   "id": "f9e52a05-5dd4-44ba-8d4d-5d2c479315ac",
   "metadata": {},
   "source": [
    "#### Wide & Deep Network"
   ]
  },
  {
   "cell_type": "code",
   "execution_count": 67,
   "id": "3a6a8a75-ffbc-4065-9310-3f84c1d2f08d",
   "metadata": {},
   "outputs": [],
   "source": [
    "#Define the model: for multi-class\n",
    "\n",
    "model = keras.models.Sequential()\n",
    "\n",
    "model.add(keras.layers.Input(shape=5))\n",
    "model.add(keras.layers.Dense(100, activation='relu'))\n",
    "model.add(keras.layers.Dense(100, activation='relu'))\n",
    "model.add(keras.layers.Dense(100, activation='relu'))\n",
    "model.add(keras.layers.Dense(10, activation='softmax'))"
   ]
  },
  {
   "cell_type": "code",
   "execution_count": 68,
   "id": "083b9634-bdb6-427c-8743-70a3b9b6d7f6",
   "metadata": {},
   "outputs": [],
   "source": [
    "# Compile model\n",
    "\n",
    "#Optimizer:\n",
    "adam = keras.optimizers.Adam(learning_rate=0.01)\n",
    "model.compile(loss='sparse_categorical_crossentropy', optimizer=adam, metrics=['accuracy'])"
   ]
  },
  {
   "cell_type": "code",
   "execution_count": 69,
   "id": "68f8f5f4-e0ba-4218-8bcd-215ca3444783",
   "metadata": {},
   "outputs": [
    {
     "name": "stdout",
     "output_type": "stream",
     "text": [
      "Epoch 1/20\n",
      "23/23 [==============================] - 1s 17ms/step - loss: 0.6932 - accuracy: 0.7285 - val_loss: 0.4098 - val_accuracy: 0.7651\n",
      "Epoch 2/20\n",
      "23/23 [==============================] - 0s 6ms/step - loss: 0.5010 - accuracy: 0.7684 - val_loss: 0.3885 - val_accuracy: 0.8021\n",
      "Epoch 3/20\n",
      "23/23 [==============================] - 0s 6ms/step - loss: 0.4557 - accuracy: 0.8033 - val_loss: 0.4327 - val_accuracy: 0.7861\n",
      "Epoch 4/20\n",
      "23/23 [==============================] - 0s 6ms/step - loss: 0.4198 - accuracy: 0.8250 - val_loss: 0.4765 - val_accuracy: 0.7910\n",
      "Epoch 5/20\n",
      "23/23 [==============================] - 0s 6ms/step - loss: 0.4049 - accuracy: 0.8223 - val_loss: 0.4921 - val_accuracy: 0.7466\n",
      "Epoch 6/20\n",
      "23/23 [==============================] - 0s 6ms/step - loss: 0.4306 - accuracy: 0.8128 - val_loss: 0.3884 - val_accuracy: 0.7978\n",
      "Epoch 7/20\n",
      "23/23 [==============================] - 0s 5ms/step - loss: 0.3853 - accuracy: 0.8300 - val_loss: 0.3938 - val_accuracy: 0.7959\n",
      "Epoch 8/20\n",
      "23/23 [==============================] - 0s 6ms/step - loss: 0.3684 - accuracy: 0.8336 - val_loss: 0.3884 - val_accuracy: 0.7972\n",
      "Epoch 9/20\n",
      "23/23 [==============================] - 0s 6ms/step - loss: 0.3929 - accuracy: 0.8228 - val_loss: 0.3652 - val_accuracy: 0.8120\n",
      "Epoch 10/20\n",
      "23/23 [==============================] - 0s 6ms/step - loss: 0.3682 - accuracy: 0.8341 - val_loss: 0.4185 - val_accuracy: 0.7885\n",
      "Epoch 11/20\n",
      "23/23 [==============================] - 0s 6ms/step - loss: 0.3613 - accuracy: 0.8400 - val_loss: 0.3550 - val_accuracy: 0.8157\n",
      "Epoch 12/20\n",
      "23/23 [==============================] - 0s 6ms/step - loss: 0.3771 - accuracy: 0.8364 - val_loss: 0.3541 - val_accuracy: 0.8261\n",
      "Epoch 13/20\n",
      "23/23 [==============================] - 0s 6ms/step - loss: 0.3695 - accuracy: 0.8427 - val_loss: 0.4635 - val_accuracy: 0.7744\n",
      "Epoch 14/20\n",
      "23/23 [==============================] - 0s 6ms/step - loss: 0.3582 - accuracy: 0.8418 - val_loss: 0.3391 - val_accuracy: 0.8329\n",
      "Epoch 15/20\n",
      "23/23 [==============================] - 0s 6ms/step - loss: 0.3560 - accuracy: 0.8368 - val_loss: 0.3194 - val_accuracy: 0.8459\n",
      "Epoch 16/20\n",
      "23/23 [==============================] - 0s 6ms/step - loss: 0.3687 - accuracy: 0.8373 - val_loss: 0.4206 - val_accuracy: 0.7904\n",
      "Epoch 17/20\n",
      "23/23 [==============================] - 0s 5ms/step - loss: 0.3405 - accuracy: 0.8472 - val_loss: 0.3657 - val_accuracy: 0.8064\n",
      "Epoch 18/20\n",
      "23/23 [==============================] - 0s 6ms/step - loss: 0.3441 - accuracy: 0.8409 - val_loss: 0.4076 - val_accuracy: 0.7904\n",
      "Epoch 19/20\n",
      "23/23 [==============================] - 0s 6ms/step - loss: 0.3309 - accuracy: 0.8463 - val_loss: 0.3554 - val_accuracy: 0.8231\n",
      "Epoch 20/20\n",
      "23/23 [==============================] - 0s 6ms/step - loss: 0.3329 - accuracy: 0.8558 - val_loss: 0.3664 - val_accuracy: 0.8126\n"
     ]
    }
   ],
   "source": [
    "# Fit the model\n",
    "\n",
    "history = model.fit(X_train, y_train, \n",
    "                    validation_data=(X_test, y_test), \n",
    "                    epochs=20, batch_size=100)"
   ]
  },
  {
   "cell_type": "code",
   "execution_count": 70,
   "id": "18ad4693-d251-42ba-9753-a5f14ec1e972",
   "metadata": {},
   "outputs": [
    {
     "data": {
      "text/plain": [
       "[0.36638206243515015, 0.8125770688056946]"
      ]
     },
     "execution_count": 70,
     "metadata": {},
     "output_type": "execute_result"
    }
   ],
   "source": [
    "# evaluate the model\n",
    "\n",
    "scores = model.evaluate(X_test, y_test, verbose=0)\n",
    "scores\n",
    "\n",
    "# In results, first is loss, second is accuracy"
   ]
  },
  {
   "cell_type": "code",
   "execution_count": 71,
   "id": "7ebeed8b-b26d-4162-9828-9cd2eeb66e50",
   "metadata": {},
   "outputs": [
    {
     "name": "stdout",
     "output_type": "stream",
     "text": [
      "loss: 0.37\n",
      "accuracy: 81.26%\n"
     ]
    }
   ],
   "source": [
    "# extract the accuracy from model.evaluate\n",
    "\n",
    "print(\"%s: %.2f\" % (model.metrics_names[0], scores[0]))\n",
    "print(\"%s: %.2f%%\" % (model.metrics_names[1], scores[1]*100))\n",
    "\n",
    "\n",
    "performance = pd.concat([performance, pd.DataFrame({'model':\"Keras - Wide & Deep Network\", \n",
    "                                                    'Accuracy': scores[1]}, index=[0])])"
   ]
  },
  {
   "cell_type": "markdown",
   "id": "66669682-3827-4333-a26d-2fc84fe42ba4",
   "metadata": {},
   "source": [
    "#### RandomGridSearch"
   ]
  },
  {
   "cell_type": "code",
   "execution_count": 72,
   "id": "4aa75296-7332-4028-a9e3-58b796088f4d",
   "metadata": {},
   "outputs": [
    {
     "name": "stdout",
     "output_type": "stream",
     "text": [
      "CPU times: total: 15.6 ms\n",
      "Wall time: 46.7 ms\n"
     ]
    }
   ],
   "source": [
    "%%time\n",
    "\n",
    "# If you don't have the following installed, from command line '!pip install scikeras'\n",
    "from scikeras.wrappers import KerasClassifier\n",
    "from keras.initializers import GlorotNormal\n",
    "\n",
    "score_measure = \"accuracy\"\n",
    "kfolds = 5\n",
    "\n",
    "def build_clf(hidden_layer_sizes, dropout):\n",
    "    ann = tf.keras.models.Sequential()\n",
    "    ann.add(keras.layers.Input(shape=5)),\n",
    "    for hidden_layer_size in hidden_layer_sizes:\n",
    "        model.add(keras.layers.Dense(hidden_layer_size, kernel_initializer= tf.keras.initializers.GlorotUniform(), \n",
    "                                     bias_initializer=keras.initializers.RandomNormal(mean=0.0, stddev=0.05, seed=None), activation=\"relu\"))\n",
    "        model.add(keras.layers.Dropout(dropout))\n",
    "    ann.add(tf.keras.layers.Dense(2, activation='softmax'))\n",
    "    ann.compile(loss = 'sparse_categorical_crossentropy', metrics = ['accuracy'])\n",
    "    return ann\n"
   ]
  },
  {
   "cell_type": "code",
   "execution_count": 73,
   "id": "e3d95989-2159-47f6-a3ae-bfe5d004e460",
   "metadata": {},
   "outputs": [],
   "source": [
    "from scikeras.wrappers import KerasClassifier\n",
    "\n",
    "keras_clf = KerasClassifier(\n",
    "    model=build_clf,\n",
    "    hidden_layer_sizes=5,\n",
    "    dropout = 0.0\n",
    ")\n"
   ]
  },
  {
   "cell_type": "code",
   "execution_count": 74,
   "id": "ea5126f6-2b30-4da3-ba42-12c13dabd557",
   "metadata": {},
   "outputs": [
    {
     "data": {
      "text/plain": [
       "dict_keys(['model', 'build_fn', 'warm_start', 'random_state', 'optimizer', 'loss', 'metrics', 'batch_size', 'validation_batch_size', 'verbose', 'callbacks', 'validation_split', 'shuffle', 'run_eagerly', 'epochs', 'hidden_layer_sizes', 'dropout', 'class_weight'])"
      ]
     },
     "execution_count": 74,
     "metadata": {},
     "output_type": "execute_result"
    }
   ],
   "source": [
    "from tensorflow.keras.callbacks import EarlyStopping\n",
    "from sklearn.model_selection import RandomizedSearchCV\n",
    "\n",
    "params = {\n",
    "    'optimizer__learning_rate': [0.0005, 0.001, 0.005],\n",
    "    'model__hidden_layer_sizes': [(70,),(90, ), (100,), (100, 90)],\n",
    "    'model__dropout': [0, 0.1],\n",
    "    'batch_size':[20, 60, 100],\n",
    "    'epochs':[10, 50, 100],\n",
    "    'optimizer':[\"adam\",'sgd']\n",
    "}\n",
    "keras_clf.get_params().keys()\n",
    "\n"
   ]
  },
  {
   "cell_type": "code",
   "execution_count": 75,
   "id": "a05fa4c4-5896-4275-9825-084ad3eb5c09",
   "metadata": {},
   "outputs": [
    {
     "name": "stdout",
     "output_type": "stream",
     "text": [
      "5/5 [==============================] - 0s 0s/step\n",
      "5/5 [==============================] - 0s 5ms/step\n",
      "5/5 [==============================] - 0s 4ms/step\n",
      "5/5 [==============================] - 0s 0s/step\n",
      "5/5 [==============================] - 0s 5ms/step\n",
      "5/5 [==============================] - 0s 5ms/step\n",
      "5/5 [==============================] - 0s 5ms/step\n",
      "5/5 [==============================] - 0s 4ms/step\n",
      "5/5 [==============================] - 0s 3ms/step\n",
      "5/5 [==============================] - 0s 4ms/step\n",
      "5/5 [==============================] - 0s 0s/step\n",
      "5/5 [==============================] - 0s 4ms/step\n",
      "5/5 [==============================] - 0s 0s/step\n",
      "5/5 [==============================] - 0s 4ms/step\n",
      "5/5 [==============================] - 0s 3ms/step\n",
      "23/23 [==============================] - 0s 2ms/step\n",
      "23/23 [==============================] - 0s 1ms/step\n",
      "23/23 [==============================] - 0s 2ms/step\n",
      "23/23 [==============================] - 0s 1ms/step\n",
      "23/23 [==============================] - 0s 2ms/step\n",
      "8/8 [==============================] - 0s 2ms/step\n",
      "8/8 [==============================] - 0s 1ms/step\n",
      "8/8 [==============================] - 0s 2ms/step\n",
      "8/8 [==============================] - 0s 3ms/step\n",
      "8/8 [==============================] - 0s 2ms/step\n",
      "23/23 [==============================] - 0s 1ms/step\n",
      "23/23 [==============================] - 0s 987us/step\n",
      "23/23 [==============================] - 0s 2ms/step\n",
      "23/23 [==============================] - 0s 1ms/step\n",
      "23/23 [==============================] - 0s 808us/step\n",
      "23/23 [==============================] - 0s 3ms/step\n",
      "23/23 [==============================] - 0s 967us/step\n",
      "23/23 [==============================] - 0s 2ms/step\n",
      "23/23 [==============================] - 0s 2ms/step\n",
      "23/23 [==============================] - 0s 672us/step\n",
      "5/5 [==============================] - 0s 3ms/step\n",
      "5/5 [==============================] - 0s 2ms/step\n",
      "5/5 [==============================] - 0s 5ms/step\n",
      "5/5 [==============================] - 0s 5ms/step\n",
      "5/5 [==============================] - 0s 2ms/step\n",
      "23/23 [==============================] - 0s 2ms/step\n",
      "23/23 [==============================] - 0s 2ms/step\n",
      "23/23 [==============================] - 0s 2ms/step\n",
      "23/23 [==============================] - 0s 1ms/step\n",
      "23/23 [==============================] - 0s 1ms/step\n",
      "8/8 [==============================] - 0s 2ms/step\n",
      "8/8 [==============================] - 0s 3ms/step\n",
      "8/8 [==============================] - 0s 3ms/step\n",
      "8/8 [==============================] - 0s 3ms/step\n",
      "8/8 [==============================] - 0s 1ms/step\n",
      "8/8 [==============================] - 0s 4ms/step\n",
      "8/8 [==============================] - 0s 4ms/step\n",
      "8/8 [==============================] - 0s 3ms/step\n",
      "8/8 [==============================] - 0s 902us/step\n",
      "8/8 [==============================] - 0s 3ms/step\n",
      "8/8 [==============================] - 0s 2ms/step\n",
      "8/8 [==============================] - 0s 3ms/step\n",
      "8/8 [==============================] - 0s 0s/step\n",
      "8/8 [==============================] - 0s 4ms/step\n",
      "8/8 [==============================] - 0s 3ms/step\n",
      "5/5 [==============================] - 0s 4ms/step\n",
      "5/5 [==============================] - 0s 2ms/step\n",
      "5/5 [==============================] - 0s 2ms/step\n",
      "5/5 [==============================] - 0s 4ms/step\n",
      "5/5 [==============================] - 0s 4ms/step\n",
      "8/8 [==============================] - 0s 3ms/step\n",
      "8/8 [==============================] - 0s 2ms/step\n",
      "8/8 [==============================] - 0s 2ms/step\n",
      "8/8 [==============================] - 0s 3ms/step\n",
      "8/8 [==============================] - 0s 1ms/step\n",
      "5/5 [==============================] - 0s 3ms/step\n",
      "5/5 [==============================] - 0s 2ms/step\n",
      "5/5 [==============================] - 0s 5ms/step\n",
      "5/5 [==============================] - 0s 4ms/step\n",
      "5/5 [==============================] - 0s 4ms/step\n",
      "8/8 [==============================] - 0s 2ms/step\n",
      "8/8 [==============================] - 0s 3ms/step\n",
      "8/8 [==============================] - 0s 1ms/step\n",
      "8/8 [==============================] - 0s 3ms/step\n",
      "8/8 [==============================] - 0s 2ms/step\n",
      "8/8 [==============================] - 0s 3ms/step\n",
      "8/8 [==============================] - 0s 2ms/step\n",
      "8/8 [==============================] - 0s 2ms/step\n",
      "8/8 [==============================] - 0s 3ms/step\n",
      "8/8 [==============================] - 0s 3ms/step\n",
      "8/8 [==============================] - 0s 2ms/step\n",
      "8/8 [==============================] - 0s 2ms/step\n",
      "8/8 [==============================] - 0s 0s/step\n",
      "8/8 [==============================] - 0s 3ms/step\n",
      "8/8 [==============================] - 0s 3ms/step\n",
      "8/8 [==============================] - 0s 2ms/step\n",
      "8/8 [==============================] - 0s 2ms/step\n",
      "8/8 [==============================] - 0s 2ms/step\n",
      "8/8 [==============================] - 0s 2ms/step\n",
      "8/8 [==============================] - 0s 2ms/step\n",
      "5/5 [==============================] - 0s 2ms/step\n",
      "5/5 [==============================] - 0s 2ms/step\n",
      "5/5 [==============================] - 0s 4ms/step\n",
      "5/5 [==============================] - 0s 2ms/step\n",
      "5/5 [==============================] - 0s 3ms/step\n",
      "23/23 [==============================] - 0s 2ms/step\n",
      "23/23 [==============================] - 0s 1ms/step\n",
      "23/23 [==============================] - 0s 2ms/step\n",
      "23/23 [==============================] - 0s 1ms/step\n",
      "23/23 [==============================] - 0s 758us/step\n",
      "23/23 [==============================] - 0s 1ms/step\n",
      "23/23 [==============================] - 0s 2ms/step\n",
      "23/23 [==============================] - 0s 1ms/step\n",
      "23/23 [==============================] - 0s 1ms/step\n",
      "23/23 [==============================] - 0s 2ms/step\n",
      "23/23 [==============================] - 0s 1ms/step\n",
      "23/23 [==============================] - 0s 2ms/step\n",
      "23/23 [==============================] - 0s 1ms/step\n",
      "23/23 [==============================] - 0s 2ms/step\n",
      "23/23 [==============================] - 0s 885us/step\n",
      "8/8 [==============================] - 0s 1ms/step\n",
      "8/8 [==============================] - 0s 2ms/step\n",
      "8/8 [==============================] - 0s 2ms/step\n",
      "8/8 [==============================] - 0s 3ms/step\n",
      "8/8 [==============================] - 0s 3ms/step\n",
      "5/5 [==============================] - 0s 4ms/step\n",
      "5/5 [==============================] - 0s 2ms/step\n",
      "5/5 [==============================] - 0s 5ms/step\n",
      "5/5 [==============================] - 0s 2ms/step\n",
      "5/5 [==============================] - 0s 2ms/step\n",
      "23/23 [==============================] - 0s 1ms/step\n",
      "23/23 [==============================] - 0s 857us/step\n",
      "23/23 [==============================] - 0s 1ms/step\n",
      "23/23 [==============================] - 0s 2ms/step\n",
      "23/23 [==============================] - 0s 1ms/step\n",
      "8/8 [==============================] - 0s 2ms/step\n",
      "8/8 [==============================] - 0s 3ms/step\n",
      "8/8 [==============================] - 0s 2ms/step\n",
      "8/8 [==============================] - 0s 3ms/step\n",
      "8/8 [==============================] - 0s 2ms/step\n",
      "8/8 [==============================] - 0s 3ms/step\n",
      "8/8 [==============================] - 0s 2ms/step\n",
      "8/8 [==============================] - 0s 2ms/step\n",
      "8/8 [==============================] - 0s 3ms/step\n",
      "8/8 [==============================] - 0s 3ms/step\n",
      "8/8 [==============================] - 0s 3ms/step\n",
      "8/8 [==============================] - 0s 2ms/step\n",
      "8/8 [==============================] - 0s 2ms/step\n",
      "8/8 [==============================] - 0s 0s/step\n",
      "8/8 [==============================] - 0s 3ms/step\n",
      "5/5 [==============================] - 0s 5ms/step\n",
      "5/5 [==============================] - 0s 3ms/step\n",
      "5/5 [==============================] - 0s 3ms/step\n",
      "5/5 [==============================] - 0s 5ms/step\n",
      "5/5 [==============================] - 0s 2ms/step\n",
      "8/8 [==============================] - 0s 2ms/step\n",
      "8/8 [==============================] - 0s 2ms/step\n",
      "8/8 [==============================] - 0s 4ms/step\n",
      "8/8 [==============================] - 0s 3ms/step\n",
      "8/8 [==============================] - 0s 3ms/step\n",
      "5/5 [==============================] - 0s 2ms/step\n",
      "5/5 [==============================] - 0s 3ms/step\n",
      "5/5 [==============================] - 0s 4ms/step\n",
      "5/5 [==============================] - 0s 4ms/step\n",
      "5/5 [==============================] - 0s 5ms/step\n",
      "8/8 [==============================] - 0s 2ms/step\n",
      "8/8 [==============================] - 0s 2ms/step\n",
      "8/8 [==============================] - 0s 2ms/step\n",
      "8/8 [==============================] - 0s 1ms/step\n",
      "8/8 [==============================] - 0s 3ms/step\n",
      "5/5 [==============================] - 0s 6ms/step\n",
      "5/5 [==============================] - 0s 5ms/step\n",
      "5/5 [==============================] - 0s 4ms/step\n",
      "5/5 [==============================] - 0s 4ms/step\n",
      "5/5 [==============================] - 0s 4ms/step\n",
      "8/8 [==============================] - 0s 3ms/step\n",
      "8/8 [==============================] - 0s 3ms/step\n",
      "8/8 [==============================] - 0s 2ms/step\n",
      "8/8 [==============================] - 0s 3ms/step\n",
      "8/8 [==============================] - 0s 3ms/step\n",
      "5/5 [==============================] - 0s 3ms/step\n",
      "5/5 [==============================] - 0s 3ms/step\n",
      "5/5 [==============================] - 0s 4ms/step\n",
      "5/5 [==============================] - 0s 4ms/step\n",
      "5/5 [==============================] - 0s 5ms/step\n",
      "8/8 [==============================] - 0s 2ms/step\n",
      "8/8 [==============================] - 0s 4ms/step\n",
      "8/8 [==============================] - 0s 2ms/step\n",
      "8/8 [==============================] - 0s 979us/step\n",
      "8/8 [==============================] - 0s 3ms/step\n",
      "23/23 [==============================] - 0s 2ms/step\n",
      "23/23 [==============================] - 0s 1ms/step\n",
      "23/23 [==============================] - 0s 1ms/step\n",
      "23/23 [==============================] - 0s 1ms/step\n",
      "23/23 [==============================] - 0s 2ms/step\n",
      "23/23 [==============================] - 0s 2ms/step\n",
      "23/23 [==============================] - 0s 1ms/step\n",
      "23/23 [==============================] - 0s 2ms/step\n",
      "23/23 [==============================] - 0s 1ms/step\n",
      "23/23 [==============================] - 0s 1ms/step\n",
      "8/8 [==============================] - 0s 2ms/step\n",
      "8/8 [==============================] - 0s 4ms/step\n",
      "8/8 [==============================] - 0s 3ms/step\n",
      "8/8 [==============================] - 0s 2ms/step\n",
      "8/8 [==============================] - 0s 3ms/step\n",
      "5/5 [==============================] - 0s 5ms/step\n",
      "5/5 [==============================] - 0s 4ms/step\n",
      "5/5 [==============================] - 0s 6ms/step\n",
      "5/5 [==============================] - 0s 2ms/step\n",
      "5/5 [==============================] - 0s 2ms/step\n",
      "8/8 [==============================] - 0s 1ms/step\n",
      "8/8 [==============================] - 0s 3ms/step\n",
      "8/8 [==============================] - 0s 3ms/step\n",
      "8/8 [==============================] - 0s 1ms/step\n",
      "8/8 [==============================] - 0s 2ms/step\n",
      "8/8 [==============================] - 0s 0s/step\n",
      "8/8 [==============================] - 0s 2ms/step\n",
      "8/8 [==============================] - 0s 2ms/step\n",
      "8/8 [==============================] - 0s 4ms/step\n",
      "8/8 [==============================] - 0s 3ms/step\n",
      "8/8 [==============================] - 0s 3ms/step\n",
      "8/8 [==============================] - 0s 3ms/step\n",
      "8/8 [==============================] - 0s 2ms/step\n",
      "8/8 [==============================] - 0s 2ms/step\n",
      "8/8 [==============================] - 0s 3ms/step\n",
      "8/8 [==============================] - 0s 4ms/step\n",
      "8/8 [==============================] - 0s 2ms/step\n",
      "8/8 [==============================] - 0s 4ms/step\n",
      "8/8 [==============================] - 0s 2ms/step\n",
      "8/8 [==============================] - 0s 4ms/step\n",
      "8/8 [==============================] - 0s 2ms/step\n",
      "8/8 [==============================] - 0s 3ms/step\n",
      "8/8 [==============================] - 0s 2ms/step\n",
      "8/8 [==============================] - 0s 2ms/step\n",
      "8/8 [==============================] - 0s 2ms/step\n",
      "23/23 [==============================] - 0s 2ms/step\n",
      "23/23 [==============================] - 0s 2ms/step\n",
      "23/23 [==============================] - 0s 1ms/step\n",
      "23/23 [==============================] - 0s 942us/step\n",
      "23/23 [==============================] - 0s 743us/step\n",
      "5/5 [==============================] - 0s 0s/step\n",
      "5/5 [==============================] - 0s 4ms/step\n",
      "5/5 [==============================] - 0s 5ms/step\n",
      "5/5 [==============================] - 0s 3ms/step\n",
      "5/5 [==============================] - 0s 3ms/step\n",
      "23/23 [==============================] - 0s 2ms/step\n",
      "23/23 [==============================] - 0s 1ms/step\n",
      "23/23 [==============================] - 0s 2ms/step\n",
      "23/23 [==============================] - 0s 1ms/step\n",
      "23/23 [==============================] - 0s 1ms/step\n",
      "8/8 [==============================] - 0s 919us/step\n",
      "8/8 [==============================] - 0s 2ms/step\n",
      "8/8 [==============================] - 0s 2ms/step\n",
      "8/8 [==============================] - 0s 2ms/step\n",
      "8/8 [==============================] - 0s 1ms/step\n"
     ]
    }
   ],
   "source": [
    "rnd_search_cv = RandomizedSearchCV(estimator=keras_clf, param_distributions=params, scoring='accuracy', n_iter=50, cv=5)\n",
    "\n",
    "import sys\n",
    "sys.setrecursionlimit(3000) # note: the default is 3000 (python 3.9)\n",
    "\n",
    "earlystop = EarlyStopping(monitor='val_loss', patience=5, verbose=0, mode='auto')\n",
    "callback = [earlystop]\n",
    "\n",
    "_ = rnd_search_cv.fit(X_train, y_train, callbacks=callback, verbose=0)"
   ]
  },
  {
   "cell_type": "code",
   "execution_count": 76,
   "id": "62acf615-901e-4f6f-a262-95783c5a6404",
   "metadata": {},
   "outputs": [
    {
     "data": {
      "text/plain": [
       "{'optimizer__learning_rate': 0.005,\n",
       " 'optimizer': 'sgd',\n",
       " 'model__hidden_layer_sizes': (100, 90),\n",
       " 'model__dropout': 0,\n",
       " 'epochs': 50,\n",
       " 'batch_size': 100}"
      ]
     },
     "execution_count": 76,
     "metadata": {},
     "output_type": "execute_result"
    }
   ],
   "source": [
    "rnd_search_cv.best_params_"
   ]
  },
  {
   "cell_type": "code",
   "execution_count": 77,
   "id": "8a78a625-e388-49ca-940f-74dedc82688a",
   "metadata": {},
   "outputs": [
    {
     "name": "stdout",
     "output_type": "stream",
     "text": [
      "{'optimizer__learning_rate': 0.005, 'optimizer': 'sgd', 'model__hidden_layer_sizes': (100, 90), 'model__dropout': 0, 'epochs': 50, 'batch_size': 100}\n"
     ]
    }
   ],
   "source": [
    "best_net = rnd_search_cv.best_estimator_\n",
    "print(rnd_search_cv.best_params_)"
   ]
  },
  {
   "cell_type": "code",
   "execution_count": 78,
   "id": "bb3a9933-74ca-44e0-b3b8-5073ee7b93c7",
   "metadata": {},
   "outputs": [
    {
     "name": "stdout",
     "output_type": "stream",
     "text": [
      "17/17 [==============================] - 0s 1ms/step\n",
      "              precision    recall  f1-score   support\n",
      "\n",
      "           0       0.90      0.68      0.77      1139\n",
      "           1       0.52      0.81      0.63       483\n",
      "\n",
      "    accuracy                           0.72      1622\n",
      "   macro avg       0.71      0.75      0.70      1622\n",
      "weighted avg       0.78      0.72      0.73      1622\n",
      "\n",
      "CPU times: total: 641 ms\n",
      "Wall time: 146 ms\n"
     ]
    }
   ],
   "source": [
    "%%time\n",
    "y_pred = best_net.predict(X_test)\n",
    "print(classification_report(y_test, y_pred))"
   ]
  },
  {
   "cell_type": "code",
   "execution_count": 79,
   "id": "fe85676d-f3fb-44cd-8bda-5cd95f728666",
   "metadata": {},
   "outputs": [
    {
     "name": "stdout",
     "output_type": "stream",
     "text": [
      "0.718249075215783\n"
     ]
    }
   ],
   "source": [
    "keras_rand_acc= accuracy_score(y_test, y_pred)\n",
    "print(keras_rand_acc)"
   ]
  },
  {
   "cell_type": "code",
   "execution_count": 80,
   "id": "1ad0256c-e5e3-463d-bc32-225252bbce36",
   "metadata": {},
   "outputs": [
    {
     "data": {
      "text/html": [
       "<div>\n",
       "<style scoped>\n",
       "    .dataframe tbody tr th:only-of-type {\n",
       "        vertical-align: middle;\n",
       "    }\n",
       "\n",
       "    .dataframe tbody tr th {\n",
       "        vertical-align: top;\n",
       "    }\n",
       "\n",
       "    .dataframe thead th {\n",
       "        text-align: right;\n",
       "    }\n",
       "</style>\n",
       "<table border=\"1\" class=\"dataframe\">\n",
       "  <thead>\n",
       "    <tr style=\"text-align: right;\">\n",
       "      <th></th>\n",
       "      <th>model</th>\n",
       "      <th>Accuracy</th>\n",
       "      <th>Precision</th>\n",
       "      <th>Recall</th>\n",
       "      <th>F1</th>\n",
       "    </tr>\n",
       "  </thead>\n",
       "  <tbody>\n",
       "    <tr>\n",
       "      <th>0</th>\n",
       "      <td>Default Logistic</td>\n",
       "      <td>0.717016</td>\n",
       "      <td>0.516000</td>\n",
       "      <td>0.801242</td>\n",
       "      <td>0.627737</td>\n",
       "    </tr>\n",
       "    <tr>\n",
       "      <th>0</th>\n",
       "      <td>LogReg - RandomCV</td>\n",
       "      <td>0.717016</td>\n",
       "      <td>0.516000</td>\n",
       "      <td>0.801242</td>\n",
       "      <td>0.627737</td>\n",
       "    </tr>\n",
       "    <tr>\n",
       "      <th>0</th>\n",
       "      <td>LogReg - GridCV</td>\n",
       "      <td>0.717016</td>\n",
       "      <td>0.516000</td>\n",
       "      <td>0.801242</td>\n",
       "      <td>0.627737</td>\n",
       "    </tr>\n",
       "    <tr>\n",
       "      <th>0</th>\n",
       "      <td>Decision Tree using Defaults</td>\n",
       "      <td>0.844636</td>\n",
       "      <td>0.694118</td>\n",
       "      <td>0.855072</td>\n",
       "      <td>0.766234</td>\n",
       "    </tr>\n",
       "    <tr>\n",
       "      <th>0</th>\n",
       "      <td>Decision Tree- RandCV</td>\n",
       "      <td>0.818126</td>\n",
       "      <td>0.663763</td>\n",
       "      <td>0.788820</td>\n",
       "      <td>0.720908</td>\n",
       "    </tr>\n",
       "    <tr>\n",
       "      <th>0</th>\n",
       "      <td>Decision Tree- GridCV</td>\n",
       "      <td>0.818126</td>\n",
       "      <td>0.627019</td>\n",
       "      <td>0.884058</td>\n",
       "      <td>0.733677</td>\n",
       "    </tr>\n",
       "    <tr>\n",
       "      <th>0</th>\n",
       "      <td>SVM Linear</td>\n",
       "      <td>0.709001</td>\n",
       "      <td>0.506765</td>\n",
       "      <td>0.853002</td>\n",
       "      <td>0.635802</td>\n",
       "    </tr>\n",
       "    <tr>\n",
       "      <th>0</th>\n",
       "      <td>SVM Linear- RandCV</td>\n",
       "      <td>0.688656</td>\n",
       "      <td>0.487028</td>\n",
       "      <td>0.855072</td>\n",
       "      <td>0.620586</td>\n",
       "    </tr>\n",
       "    <tr>\n",
       "      <th>0</th>\n",
       "      <td>SVM Linear- GridCV</td>\n",
       "      <td>0.709618</td>\n",
       "      <td>0.507371</td>\n",
       "      <td>0.855072</td>\n",
       "      <td>0.636854</td>\n",
       "    </tr>\n",
       "    <tr>\n",
       "      <th>0</th>\n",
       "      <td>SVM rbf</td>\n",
       "      <td>0.822441</td>\n",
       "      <td>0.641509</td>\n",
       "      <td>0.915114</td>\n",
       "      <td>0.754266</td>\n",
       "    </tr>\n",
       "    <tr>\n",
       "      <th>0</th>\n",
       "      <td>SVM rbf- RandCV</td>\n",
       "      <td>0.820592</td>\n",
       "      <td>0.638728</td>\n",
       "      <td>0.915114</td>\n",
       "      <td>0.752340</td>\n",
       "    </tr>\n",
       "    <tr>\n",
       "      <th>0</th>\n",
       "      <td>SVM rbf- GridCV</td>\n",
       "      <td>0.848952</td>\n",
       "      <td>0.690705</td>\n",
       "      <td>0.892340</td>\n",
       "      <td>0.778681</td>\n",
       "    </tr>\n",
       "    <tr>\n",
       "      <th>0</th>\n",
       "      <td>poly svm</td>\n",
       "      <td>0.806412</td>\n",
       "      <td>0.619519</td>\n",
       "      <td>0.906832</td>\n",
       "      <td>0.736134</td>\n",
       "    </tr>\n",
       "    <tr>\n",
       "      <th>0</th>\n",
       "      <td>SVM Poly- RandCV</td>\n",
       "      <td>0.725031</td>\n",
       "      <td>0.522103</td>\n",
       "      <td>0.904762</td>\n",
       "      <td>0.662121</td>\n",
       "    </tr>\n",
       "    <tr>\n",
       "      <th>0</th>\n",
       "      <td>SVM Poly- GridCV</td>\n",
       "      <td>0.726880</td>\n",
       "      <td>0.523810</td>\n",
       "      <td>0.910973</td>\n",
       "      <td>0.665155</td>\n",
       "    </tr>\n",
       "    <tr>\n",
       "      <th>0</th>\n",
       "      <td>Neural Network</td>\n",
       "      <td>0.837238</td>\n",
       "      <td>0.679214</td>\n",
       "      <td>0.859213</td>\n",
       "      <td>0.758684</td>\n",
       "    </tr>\n",
       "    <tr>\n",
       "      <th>0</th>\n",
       "      <td>Neural Network RandomCV</td>\n",
       "      <td>0.803329</td>\n",
       "      <td>0.618841</td>\n",
       "      <td>0.884058</td>\n",
       "      <td>0.728048</td>\n",
       "    </tr>\n",
       "    <tr>\n",
       "      <th>0</th>\n",
       "      <td>Neural Network GridCV</td>\n",
       "      <td>0.797781</td>\n",
       "      <td>0.609929</td>\n",
       "      <td>0.890269</td>\n",
       "      <td>0.723906</td>\n",
       "    </tr>\n",
       "    <tr>\n",
       "      <th>0</th>\n",
       "      <td>Deep Network using keras</td>\n",
       "      <td>0.802713</td>\n",
       "      <td>NaN</td>\n",
       "      <td>NaN</td>\n",
       "      <td>NaN</td>\n",
       "    </tr>\n",
       "    <tr>\n",
       "      <th>0</th>\n",
       "      <td>Keras - Wide &amp; Deep Network</td>\n",
       "      <td>0.812577</td>\n",
       "      <td>NaN</td>\n",
       "      <td>NaN</td>\n",
       "      <td>NaN</td>\n",
       "    </tr>\n",
       "    <tr>\n",
       "      <th>0</th>\n",
       "      <td>RandomGrid using Keras</td>\n",
       "      <td>0.718249</td>\n",
       "      <td>NaN</td>\n",
       "      <td>NaN</td>\n",
       "      <td>NaN</td>\n",
       "    </tr>\n",
       "  </tbody>\n",
       "</table>\n",
       "</div>"
      ],
      "text/plain": [
       "                          model  Accuracy  Precision    Recall        F1\n",
       "0              Default Logistic  0.717016   0.516000  0.801242  0.627737\n",
       "0             LogReg - RandomCV  0.717016   0.516000  0.801242  0.627737\n",
       "0               LogReg - GridCV  0.717016   0.516000  0.801242  0.627737\n",
       "0  Decision Tree using Defaults  0.844636   0.694118  0.855072  0.766234\n",
       "0         Decision Tree- RandCV  0.818126   0.663763  0.788820  0.720908\n",
       "0         Decision Tree- GridCV  0.818126   0.627019  0.884058  0.733677\n",
       "0                    SVM Linear  0.709001   0.506765  0.853002  0.635802\n",
       "0            SVM Linear- RandCV  0.688656   0.487028  0.855072  0.620586\n",
       "0            SVM Linear- GridCV  0.709618   0.507371  0.855072  0.636854\n",
       "0                       SVM rbf  0.822441   0.641509  0.915114  0.754266\n",
       "0               SVM rbf- RandCV  0.820592   0.638728  0.915114  0.752340\n",
       "0               SVM rbf- GridCV  0.848952   0.690705  0.892340  0.778681\n",
       "0                      poly svm  0.806412   0.619519  0.906832  0.736134\n",
       "0              SVM Poly- RandCV  0.725031   0.522103  0.904762  0.662121\n",
       "0              SVM Poly- GridCV  0.726880   0.523810  0.910973  0.665155\n",
       "0                Neural Network  0.837238   0.679214  0.859213  0.758684\n",
       "0       Neural Network RandomCV  0.803329   0.618841  0.884058  0.728048\n",
       "0         Neural Network GridCV  0.797781   0.609929  0.890269  0.723906\n",
       "0      Deep Network using keras  0.802713        NaN       NaN       NaN\n",
       "0   Keras - Wide & Deep Network  0.812577        NaN       NaN       NaN\n",
       "0        RandomGrid using Keras  0.718249        NaN       NaN       NaN"
      ]
     },
     "execution_count": 80,
     "metadata": {},
     "output_type": "execute_result"
    }
   ],
   "source": [
    "\n",
    "performance = pd.concat([performance, pd.DataFrame({'model':\"RandomGrid using Keras\", \n",
    "                                                    'Accuracy': keras_rand_acc}, index=[0])])\n",
    "performance"
   ]
  },
  {
   "cell_type": "markdown",
   "id": "8a70f4dd-5ef4-4b78-969b-40a020e88d5d",
   "metadata": {},
   "source": [
    "## Analysis"
   ]
  },
  {
   "cell_type": "markdown",
   "id": "241f078c-355f-4cef-99c7-5442091e2fe5",
   "metadata": {},
   "source": [
    "- The performance metrics and accuracy ratings for different machine learning models are shown in the above table for the Phoneme dataset. Comparisons have been made between the models of logistic regression, decision trees, support vector machines (SVM), and neural networks. \n",
    "\n",
    "- The highest accuracy score of 0.848952 was achieved by the SVM-rbf GridCV model, followed by the Decision model with Default parameters  with an accuracy of 0.844636. The Deep Network using Keras and the Keras Wide & Deep Network both achieved accuracy scores of 0.802713 and 0.812577 respectively. The Logistic Regression models all achieved the same accuracy score of 0.717016. The SVM randomCV model achieved the lowest accuracy score of 0.688656 followed by SVM Linear model with accuracy score of 0.709001.\n",
    "\n",
    "- The Keras Models (Deep Neural Network, Wide & Deep Network) have the moderate accuracy scores are little higher compared to other models. Accuracy scores of neural network with default parameters is 0.837238 has the third highest accuracy score of all the models."
   ]
  }
 ],
 "metadata": {
  "kernelspec": {
   "display_name": "Python 3 (ipykernel)",
   "language": "python",
   "name": "python3"
  },
  "language_info": {
   "codemirror_mode": {
    "name": "ipython",
    "version": 3
   },
   "file_extension": ".py",
   "mimetype": "text/x-python",
   "name": "python",
   "nbconvert_exporter": "python",
   "pygments_lexer": "ipython3",
   "version": "3.9.16"
  }
 },
 "nbformat": 4,
 "nbformat_minor": 5
}
